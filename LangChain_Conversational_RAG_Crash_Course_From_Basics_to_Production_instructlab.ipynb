{
 "cells": [
  {
   "cell_type": "code",
   "execution_count": null,
   "metadata": {
    "id": "bJTr-Sv18Jsp"
   },
   "outputs": [],
   "source": [
    "#! pip install -q --upgrade langchain langchain-openai langchain-core langchain_community docx2txt pypdf  langchain_chroma sentence_transformers"
   ]
  },
  {
   "cell_type": "markdown",
   "metadata": {
    "id": "jKUTDqJhBrx3"
   },
   "source": [
    "### **Part 1:**\n",
    "\n",
    "- **Understanding RAG (Retrieval-Augmented Generation)**\n",
    "    - What is RAG?\n",
    "    - Importance of RAG in AI applications\n",
    "- **Introduction to LangChain and LCEL**\n",
    "    - Overview of LangChain\n",
    "    - LangChain Expression Language (LCEL)\n",
    "- **Exploring LangChain Components**\n",
    "    - LLM (Large Language Models)\n",
    "    - Prompts\n",
    "    - Retrievers\n",
    "    - Composing components into a chain\n",
    "- **Document Processing and Vector Databases**\n",
    "    - Document splitting techniques\n",
    "    - Embedding documents\n",
    "    - Storing and retrieving documents in a vector database\n",
    "\n",
    "- **Creating Your First RAG Chain**\n",
    "    - Step-by-step guide to building a basic RAG chain\n",
    "    - Answering questions from documents using RAG\n",
    "- **Building a Conversational RAG**\n",
    "    - Handling follow-up questions\n",
    "    - Concept of contextualizing and refining queries\n",
    "- **Using pre-built LangChain RAG chains**\n",
    "    - history_aware_retriever\n",
    "    - create_retrieval_chain\n",
    "- **Building Multi User Chatbot**\n",
    "    - Managing conversation history using a database table\n",
    "\n",
    "### **Part 2: Moving to Production with FastAPI**\n",
    "\n",
    "- **Integrating Colab Code with FastAPI**\n",
    "    - Setting up FastAPI for production\n",
    "    - Modularizing code into different files for maintainability\n",
    "    - Implemeting chatbot endpoint to talk to your data\n",
    "- **Creating API Endpoints**\n",
    "    - Building endpoints for file upload, list, and deletion\n",
    "    - Testing and validating endpoints\n",
    "\n",
    "- **Building a Streamlit Interface**\n",
    "    - Creating a user-friendly interface with Streamlit\n",
    "    - Integrating the RAG chatbot API with the Streamlit app\n",
    "    - File management features (upload, list, delete)"
   ]
  },
  {
   "cell_type": "markdown",
   "metadata": {
    "id": "i1d1pFueL4dJ"
   },
   "source": [
    "###What is Retrieval Augmented Generation (RAG)?\n",
    "RAG is a technique that enhances language models by combining them with a retrieval system. It allows the model to access and utilize external knowledge when generating responses."
   ]
  },
  {
   "cell_type": "markdown",
   "metadata": {
    "id": "DTwMayJCNLAn"
   },
   "source": [
    "The process typically involves:\n",
    "####Indexing a large corpus of documents"
   ]
  },
  {
   "cell_type": "code",
   "execution_count": 1,
   "metadata": {
    "colab": {
     "base_uri": "https://localhost:8080/"
    },
    "id": "wvZGjmr9Rl6w",
    "outputId": "b4f1bae5-87e8-43b6-b648-0473d8738bca"
   },
   "outputs": [
    {
     "name": "stdout",
     "output_type": "stream",
     "text": [
      "0.2.12\n"
     ]
    }
   ],
   "source": [
    "import langchain\n",
    "print(langchain.__version__)"
   ]
  },
  {
   "cell_type": "code",
   "execution_count": 2,
   "metadata": {
    "id": "ZLC1ePBkA0Dd"
   },
   "outputs": [],
   "source": [
    "  MODEL_SERVICE = \"http://localhost:33665/v1\"\n",
    "  API_KEY = \"sk-no-key-required\"\n",
    "  "
   ]
  },
  {
   "cell_type": "markdown",
   "metadata": {
    "id": "SkGT7MDh-mGk"
   },
   "source": [
    "###Call LLM"
   ]
  },
  {
   "cell_type": "code",
   "execution_count": 5,
   "metadata": {
    "colab": {
     "base_uri": "https://localhost:8080/"
    },
    "id": "YFPaXjak-Dx6",
    "outputId": "f7fadda0-e604-462d-e61b-42e2d40ead86"
   },
   "outputs": [
    {
     "data": {
      "text/plain": [
       "AIMessage(content='IBM Watson is a question-answering system developed by IBM. It can process and respond to a wide variety of questions, offering information, providing insights, and performing tasks.', response_metadata={'finish_reason': 'stop', 'model_name': 'gpt-3.5-turbo'}, id='run-c6a83c7a-012e-45d3-b613-039ce6ee5d85-0')"
      ]
     },
     "execution_count": 5,
     "metadata": {},
     "output_type": "execute_result"
    }
   ],
   "source": [
    "from langchain_openai import ChatOpenAI\n",
    "\n",
    "llm = ChatOpenAI(base_url=MODEL_SERVICE, api_key=API_KEY, streaming=True, max_tokens=4096)\n",
    "llm_response = llm.invoke(\"what is IBM  watson\")\n",
    "\n",
    "llm_response"
   ]
  },
  {
   "cell_type": "markdown",
   "metadata": {
    "id": "Nv-79m-P_kVF"
   },
   "source": [
    "###Parsing Output"
   ]
  },
  {
   "cell_type": "code",
   "execution_count": 6,
   "metadata": {
    "colab": {
     "base_uri": "https://localhost:8080/",
     "height": 35
    },
    "id": "g1e1HTs1-vmG",
    "outputId": "b910f96b-8542-4a9f-9274-1a4f31ea1dfd"
   },
   "outputs": [
    {
     "data": {
      "text/plain": [
       "'IBM Watson is a question-answering system developed by IBM. It can process and respond to a wide variety of questions, offering information, providing insights, and performing tasks.'"
      ]
     },
     "execution_count": 6,
     "metadata": {},
     "output_type": "execute_result"
    }
   ],
   "source": [
    "from langchain_core.output_parsers import StrOutputParser\n",
    "\n",
    "output_parser = StrOutputParser()\n",
    "output_parser.invoke(llm_response)"
   ]
  },
  {
   "cell_type": "markdown",
   "metadata": {
    "id": "ZIWdUqOe_nIc"
   },
   "source": [
    "###Simple Chain"
   ]
  },
  {
   "cell_type": "code",
   "execution_count": 8,
   "metadata": {
    "colab": {
     "base_uri": "https://localhost:8080/",
     "height": 35
    },
    "id": "dZAu9MKc_S5z",
    "outputId": "990ebf8f-c4b1-4d98-a542-c06e5f509c80"
   },
   "outputs": [
    {
     "data": {
      "text/plain": [
       "'IBM Watson AI models are a set of advanced artificial intelligence technologies designed to understand and respond to a wide range of user queries with accuracy, relevance, and contextual understanding. These models can be employed in various applications, such as customer service, data analysis, and decision-making, to provide valuable insights and automate complex tasks. Some popular IBM Watson AI models include language translators, sentiment analyzers, and chatbots.'"
      ]
     },
     "execution_count": 8,
     "metadata": {},
     "output_type": "execute_result"
    }
   ],
   "source": [
    "chain = llm | output_parser\n",
    "chain.invoke(\"what are IBM watson AI models\")"
   ]
  },
  {
   "cell_type": "markdown",
   "metadata": {
    "id": "wpRopsnw_3yo"
   },
   "source": [
    "###Prompt Template"
   ]
  },
  {
   "cell_type": "code",
   "execution_count": 12,
   "metadata": {
    "colab": {
     "base_uri": "https://localhost:8080/"
    },
    "id": "gH9TLudu_-Dw",
    "outputId": "0bd110f8-6b45-43ef-b5bb-2f7baa12c396"
   },
   "outputs": [
    {
     "data": {
      "text/plain": [
       "ChatPromptValue(messages=[HumanMessage(content='Write a brief summary about RHEL AI')])"
      ]
     },
     "execution_count": 12,
     "metadata": {},
     "output_type": "execute_result"
    }
   ],
   "source": [
    "from langchain_core.prompts import ChatPromptTemplate\n",
    "prompt = ChatPromptTemplate.from_template(\"Write a brief summary about {topic}\")\n",
    "prompt.invoke({\"topic\": \"RHEL AI\"})"
   ]
  },
  {
   "cell_type": "code",
   "execution_count": 13,
   "metadata": {
    "colab": {
     "base_uri": "https://localhost:8080/",
     "height": 35
    },
    "id": "RakPrAV0BqlL",
    "outputId": "9e8c870a-0b12-4532-cd7e-52bd8503d3f4"
   },
   "outputs": [
    {
     "data": {
      "text/plain": [
       "'RHEL AI is a cutting-edge artificial intelligence platform developed by Red Hat, a leading company in the open-source software space. This platform leverages advanced machine learning algorithms to deliver intelligent automation and decision-making capabilities, enabling businesses to streamline their operations, reduce costs, and improve efficiency. RHEL AI is built on top of Red Hat Enterprise Linux (RHEL), a robust and secure Linux distribution, ensuring seamless integration with existing IT infrastructures. With RHEL AI, businesses can unlock valuable insights from their data, automate complex tasks, and make informed decisions based on real-time analytics. This technology has wide-ranging applications across various industries, including finance, healthcare, manufacturing, and retail, making it an essential tool for organizations seeking to stay competitive in the digital age.'"
      ]
     },
     "execution_count": 13,
     "metadata": {},
     "output_type": "execute_result"
    }
   ],
   "source": [
    "chain = prompt | llm | output_parser\n",
    "chain.invoke({\"topic\": \"RHEL AI\"})"
   ]
  },
  {
   "cell_type": "code",
   "execution_count": 15,
   "metadata": {
    "colab": {
     "base_uri": "https://localhost:8080/"
    },
    "id": "pizjNr0h8f_E",
    "outputId": "2ab1230f-7d5c-4ffb-c9d7-0c0f79bffe8e"
   },
   "outputs": [
    {
     "name": "stdout",
     "output_type": "stream",
     "text": [
      "InstructLab is an innovative educational technology company that specializes in creating interactive and engaging learning experiences for students and educators. Our mission is to empower learners and facilitate their growth through the development of cutting-edge tools and resources designed to enhance teaching and learning. InstructLab's team comprises experienced educators, software developers, and designers who collaborate to bring the most effective educational solutions to life.\n",
      "\n",
      "One of our flagship products is the InstructLab Virtual Lab, which offers a powerful and flexible virtualization platform for hands-on scientific experimentation in various disciplines, such as physics, chemistry, biology, and engineering. This cloud-based solution allows students to perform realistic simulations, conduct experiments remotely, and collaborate with their peers from anywhere in the world. The InstructLab Virtual Lab is highly scalable and adaptable, making it suitable for use in K-12 classrooms, colleges, universities, and professional training environments.\n",
      "\n",
      "In addition to the InstructLab Virtual Lab, we also offer a range of complementary educational resources, including interactive lessons, multimedia content, and teaching guides. These materials are designed to support instructors and students in making the most of the InstructLab Virtual Lab and enhancing their overall learning experience.\n",
      "\n",
      "At InstructLab, we are committed to continuous improvement and innovation. We regularly gather feedback from our users and incorporate their suggestions into our product development process. By staying abreast of the latest educational trends and research, we can ensure that our products and resources remain at the forefront of teaching and learning.\n",
      "\n",
      "If you have any questions or would like to learn more about InstructLab and our offerings, please don't hesitate to contact us. We look forward to hearing from you!\n"
     ]
    }
   ],
   "source": [
    "from langchain_openai import ChatOpenAI\n",
    "from langchain_core.prompts import ChatPromptTemplate\n",
    "from langchain_core.output_parsers import StrOutputParser\n",
    "\n",
    "# Define the prompt\n",
    "prompt = ChatPromptTemplate.from_template(\"describe me  Granite teacher student model about {topic}\")\n",
    "\n",
    "# Initialize the LLM\n",
    "llm = ChatOpenAI(base_url=MODEL_SERVICE, api_key=API_KEY, streaming=True, max_tokens=4096)\n",
    "\n",
    "# Define the output parser\n",
    "output_parser = StrOutputParser()\n",
    "\n",
    "# Compose the chain\n",
    "chain = prompt | llm | output_parser\n",
    "\n",
    "# Use the chain\n",
    "result = chain.invoke({\"topic\": \"Instructlab\"})\n",
    "print(result)"
   ]
  },
  {
   "cell_type": "markdown",
   "metadata": {
    "id": "59Hl3OjvsA02"
   },
   "source": [
    "###LLM Messages"
   ]
  },
  {
   "cell_type": "code",
   "execution_count": 16,
   "metadata": {
    "colab": {
     "base_uri": "https://localhost:8080/"
    },
    "id": "37riQcz1FoB_",
    "outputId": "3227525d-8f0b-469d-ac4b-3760895ce870"
   },
   "outputs": [
    {
     "data": {
      "text/plain": [
       "AIMessage(content='Artificial Intelligence (AI) programming is a subfield of computer science that focuses on creating algorithms and systems capable of performing tasks that would normally require human intelligence. This includes understanding natural language, recognizing patterns, solving problems, and making decisions. AI programming involves the development of models and techniques from various areas such as machine learning, deep learning, neural networks, and data mining. The ultimate goal is to build intelligent systems that can learn from experience, adapt to new situations, and improve their performance over time.', response_metadata={'finish_reason': 'stop', 'model_name': 'gpt-3.5-turbo'}, id='run-062bd332-74bb-457d-bf26-a29bd1e4bb22-0')"
      ]
     },
     "execution_count": 16,
     "metadata": {},
     "output_type": "execute_result"
    }
   ],
   "source": [
    "from langchain_core.output_parsers import StrOutputParser\n",
    "from langchain_core.messages import HumanMessage, SystemMessage\n",
    "\n",
    "system_message = SystemMessage(content=\"You are a helpful assistant that provides knowledge.\")\n",
    "human_message = HumanMessage(content=\"Tell me about AI programming\")\n",
    "llm.invoke([system_message, human_message])"
   ]
  },
  {
   "cell_type": "code",
   "execution_count": 17,
   "metadata": {
    "colab": {
     "base_uri": "https://localhost:8080/"
    },
    "id": "wEufVkCLMm68",
    "outputId": "f8f21040-feae-4a1c-a4c3-297c87d2c9ce"
   },
   "outputs": [
    {
     "data": {
      "text/plain": [
       "ChatPromptValue(messages=[SystemMessage(content='You are a helpful assistant that provides knowledge.'), HumanMessage(content='Tell me about programming')])"
      ]
     },
     "execution_count": 17,
     "metadata": {},
     "output_type": "execute_result"
    }
   ],
   "source": [
    "template = ChatPromptTemplate([\n",
    "    (\"system\", \"You are a helpful assistant that provides knowledge.\"),\n",
    "    (\"human\", \"Tell me about {topic}\")\n",
    "])\n",
    "\n",
    "prompt_value = template.invoke(\n",
    "    {\n",
    "        \"topic\": \"programming\"\n",
    "    }\n",
    ")\n",
    "prompt_value"
   ]
  },
  {
   "cell_type": "code",
   "execution_count": 18,
   "metadata": {
    "colab": {
     "base_uri": "https://localhost:8080/"
    },
    "id": "mY86l3k_HwTb",
    "outputId": "995734c5-18f8-4beb-872b-ae9702bd6044"
   },
   "outputs": [
    {
     "data": {
      "text/plain": [
       "AIMessage(content=\"Programming is a versatile and essential skill in today's digital age. It involves creating, designing, and maintaining computer software, applications, or systems. Programmers use various programming languages to write code that enables computers to perform specific tasks or solve complex problems.\\n\\nThere are several programming paradigms, including procedural, object-oriented, functional, and logic-based programming. Each paradigm has its own set of rules and best practices, and understanding them can help you choose the most suitable approach for a given task.\\n\\nProgramming languages have their unique features, syntax, and use cases. Some popular programming languages include Python, Java, C++, JavaScript, C#, and Rust. Each language has its own strengths and weaknesses, and selecting the right one for a specific project can make a significant difference in terms of efficiency, maintainability, and performance.\\n\\nIn addition to technical skills, programmers need strong problem-solving abilities, critical thinking, and attention to detail. These skills are essential for understanding and addressing complex problems, designing efficient algorithms, and writing accurate and reliable code.\\n\\nProgramming also offers excellent career opportunities, as the demand for skilled programmers is high across various industries, such as software development, web development, data science, artificial intelligence, and research and development.\\n\\nIf you're new to programming, I recommend starting with introductory courses or tutorials on platforms like Codecademy, Udemy, Coursera, or edX. These resources can help you build a solid foundation in programming concepts and gain hands-on experience in writing code.\\n\\nFeel free to ask any questions you have about programming, and I'll be happy to help!\", response_metadata={'finish_reason': 'stop', 'model_name': 'gpt-3.5-turbo'}, id='run-a5d1e9c2-5146-456b-adcc-2637d77c6b72-0')"
      ]
     },
     "execution_count": 18,
     "metadata": {},
     "output_type": "execute_result"
    }
   ],
   "source": [
    "llm.invoke(prompt_value)"
   ]
  },
  {
   "cell_type": "code",
   "execution_count": null,
   "metadata": {
    "id": "-k3uT6eoTOl7"
   },
   "outputs": [],
   "source": [
    "# !pip install docx2txt pypdf unstructured"
   ]
  },
  {
   "cell_type": "code",
   "execution_count": 43,
   "metadata": {
    "colab": {
     "base_uri": "https://localhost:8080/"
    },
    "id": "6-G_ZBmiSJRP",
    "outputId": "d8563a20-61c0-46e4-a84f-43751ef9c115"
   },
   "outputs": [
    {
     "name": "stdout",
     "output_type": "stream",
     "text": [
      "1\n",
      "Split the documents into 4 chunks.\n"
     ]
    }
   ],
   "source": [
    "from langchain_community.document_loaders import PyPDFLoader, Docx2txtLoader\n",
    "from langchain_text_splitters import RecursiveCharacterTextSplitter\n",
    "from langchain_huggingface import HuggingFaceEmbeddings\n",
    "from typing import List\n",
    "from langchain_core.documents import Document\n",
    "\n",
    "text_splitter = RecursiveCharacterTextSplitter(\n",
    "    chunk_size=1000,\n",
    "    chunk_overlap=200,\n",
    "    length_function=len\n",
    ")\n",
    "\n",
    "docx_loader = Docx2txtLoader(\"/home/kkakarla/Development/git-projects/RAG/Langchain-RAG-chatbot/docs/IBM_Watson_History.docx\")\n",
    "documents = docx_loader.load()\n",
    "\n",
    "print(len(documents))\n",
    "\n",
    "splits = text_splitter.split_documents(documents)\n",
    "\n",
    "print(f\"Split the documents into {len(splits)} chunks.\")"
   ]
  },
  {
   "cell_type": "code",
   "execution_count": 37,
   "metadata": {
    "colab": {
     "base_uri": "https://localhost:8080/"
    },
    "id": "DaYyDYxKypL7",
    "outputId": "e5a3fbde-0e65-406c-9d0f-231cad1d8732"
   },
   "outputs": [
    {
     "data": {
      "text/plain": [
       "Document(metadata={'source': '/home/kkakarla/Development/git-projects/RAG/Langchain-RAG-chatbot/docs/IBM_Watson_History.docx'}, page_content=\"IBM’s research in AI goes back to the 1950s and includes significant milestones like the supercomputer Deep Blue defeating chess grandmaster Garry Kasparov.\\xa0\\n\\n\\n\\nIn 2011, IBM Watson defeated Brad Rutter and Ken Jennings in the\\xa0Jeopardy!\\xa0Challenge.\\xa0To find and understand the clues in the questions, Watson compared possible answers by ranking its confidence in their accuracy, and responded —\\xa0all in under three seconds.\\n\\n\\n\\nWatson sparked curiosity around “machines that could think” and opened up the possibilities around how AI could be applied to business. Clients in industries ranging from financial services to retail put Watson to work to unlock new insights, drive productivity and deliver better customer experiences.\\xa0\\n\\n\\n\\nNow through advancements in core Watson technologies, IBM has developed the next generation AI and data platform and set of AI assistants with\\xa0watsonx.\\n\\n\\n\\nHow Watson has evolved AI over time\\n\\n\\n\\n2007\\n\\nIBM Watson\\n\\nIBM Research started working on the grand challenge of building a computer system that could compete with champions at the game of Jeopardy!. Just four years later in 2011, the open-domain question-answering system dubbed Watson beat the two highest ranked players in a nationally televised two-game Jeopardy! Match.\\n\\n\\n\\n2013\\n\\nIBM Watson Developer Cloud\\n\\nIBM Watson technology became available as a development platform in the cloud. The move spurred innovation and fueled a new ecosystem of entrepreneurial software application providers–ranging from start-ups and emerging, venture capital-backed businesses to established players.\\n\\n\\n\\n\\n\\n2014\\n\\nIBM Watson Discovery Advisor\\n\\nIBM Watson Discovery Advisor was designed to cut through data quickly and find unexpected connections in raw data.\\n\\n\\n\\n2017\\n\\nIBM Watson NLP Library\\n\\nIBM Watson Natural Language Processing (NLP) teams across the world set out on a reuse journey, bringing IBM's NLP into one unified stack, so that every product and AI application could benefit from the best innovations IBM had to offer.\\n\\n\\n\\n2020\\n\\nIBM Watson Assistant\\n\\nIBM Watson Assistant released a beta version of a new intent detection model. Intent, the frontline of any conversation interface like chatbots, needs to accurately recognize and categorize user intent. By combining traditional machine learning, transfer learning and deep learning techniques, IBM Watson Assistant was faster and more accurate with less training required.\\n\\n\\n\\n2023\\n\\nwatsonx\\n\\nIn 2023, IBM announced the watsonx platform, which allows partners to train, tune and distribute models with generative AI and machine learning capabilities. Under development for three years, IBM designed watsonx to manage the life cycle of foundation models that are the basis of generative AI capabilities and for creating and tuning machine learning models\")"
      ]
     },
     "execution_count": 37,
     "metadata": {},
     "output_type": "execute_result"
    }
   ],
   "source": [
    "documents[0]"
   ]
  },
  {
   "cell_type": "code",
   "execution_count": 38,
   "metadata": {
    "colab": {
     "base_uri": "https://localhost:8080/"
    },
    "id": "RC5yK58oTa9-",
    "outputId": "27b792fe-6555-480f-df5d-54fd17250a89"
   },
   "outputs": [
    {
     "data": {
      "text/plain": [
       "Document(metadata={'source': '/home/kkakarla/Development/git-projects/RAG/Langchain-RAG-chatbot/docs/IBM_Watson_History.docx'}, page_content='How Watson has evolved AI over time\\n\\n\\n\\n2007\\n\\nIBM Watson\\n\\nIBM Research started working on the grand challenge of building a computer system that could compete with champions at the game of Jeopardy!. Just four years later in 2011, the open-domain question-answering system dubbed Watson beat the two highest ranked players in a nationally televised two-game Jeopardy! Match.\\n\\n\\n\\n2013\\n\\nIBM Watson Developer Cloud\\n\\nIBM Watson technology became available as a development platform in the cloud. The move spurred innovation and fueled a new ecosystem of entrepreneurial software application providers–ranging from start-ups and emerging, venture capital-backed businesses to established players.\\n\\n\\n\\n\\n\\n2014\\n\\nIBM Watson Discovery Advisor\\n\\nIBM Watson Discovery Advisor was designed to cut through data quickly and find unexpected connections in raw data.\\n\\n\\n\\n2017\\n\\nIBM Watson NLP Library')"
      ]
     },
     "execution_count": 38,
     "metadata": {},
     "output_type": "execute_result"
    }
   ],
   "source": [
    "splits[1]"
   ]
  },
  {
   "cell_type": "code",
   "execution_count": 39,
   "metadata": {
    "colab": {
     "base_uri": "https://localhost:8080/"
    },
    "id": "qVILJLkITgfz",
    "outputId": "9dce62d3-5976-4919-b149-80ee8beb5f9b"
   },
   "outputs": [
    {
     "data": {
      "text/plain": [
       "{'source': '/home/kkakarla/Development/git-projects/RAG/Langchain-RAG-chatbot/docs/IBM_Watson_History.docx'}"
      ]
     },
     "execution_count": 39,
     "metadata": {},
     "output_type": "execute_result"
    }
   ],
   "source": [
    "splits[0].metadata"
   ]
  },
  {
   "cell_type": "code",
   "execution_count": 40,
   "metadata": {
    "colab": {
     "base_uri": "https://localhost:8080/",
     "height": 174
    },
    "id": "LAPIDXucTjFN",
    "outputId": "49523e2f-c352-44e0-d293-f725dac47a59"
   },
   "outputs": [
    {
     "data": {
      "text/plain": [
       "'IBM’s research in AI goes back to the 1950s and includes significant milestones like the supercomputer Deep Blue defeating chess grandmaster Garry Kasparov.\\xa0\\n\\n\\n\\nIn 2011, IBM Watson defeated Brad Rutter and Ken Jennings in the\\xa0Jeopardy!\\xa0Challenge.\\xa0To find and understand the clues in the questions, Watson compared possible answers by ranking its confidence in their accuracy, and responded —\\xa0all in under three seconds.\\n\\n\\n\\nWatson sparked curiosity around “machines that could think” and opened up the possibilities around how AI could be applied to business. Clients in industries ranging from financial services to retail put Watson to work to unlock new insights, drive productivity and deliver better customer experiences.\\xa0\\n\\n\\n\\nNow through advancements in core Watson technologies, IBM has developed the next generation AI and data platform and set of AI assistants with\\xa0watsonx.\\n\\n\\n\\nHow Watson has evolved AI over time\\n\\n\\n\\n2007\\n\\nIBM Watson'"
      ]
     },
     "execution_count": 40,
     "metadata": {},
     "output_type": "execute_result"
    }
   ],
   "source": [
    "splits[0].page_content"
   ]
  },
  {
   "cell_type": "code",
   "execution_count": 41,
   "metadata": {
    "colab": {
     "base_uri": "https://localhost:8080/"
    },
    "id": "JHPIWFXyTsGM",
    "outputId": "f0ced858-670e-449d-c62a-a7103838efb5"
   },
   "outputs": [
    {
     "name": "stdout",
     "output_type": "stream",
     "text": [
      "Loaded 3 documents from the folder.\n",
      "Split the documents into 19 chunks.\n"
     ]
    }
   ],
   "source": [
    "# 1. Function to load documents from a folder\n",
    "import os\n",
    "def load_documents(folder_path: str) -> List[Document]:\n",
    "    documents = []\n",
    "    for filename in os.listdir(folder_path):\n",
    "        file_path = os.path.join(folder_path, filename)\n",
    "        if filename.endswith('.pdf'):\n",
    "            loader = PyPDFLoader(file_path)\n",
    "        elif filename.endswith('.docx'):\n",
    "            loader = Docx2txtLoader(file_path)\n",
    "        else:\n",
    "            print(f\"Unsupported file type: {filename}\")\n",
    "            continue\n",
    "        documents.extend(loader.load())\n",
    "    return documents\n",
    "\n",
    "# Load documents from a folder\n",
    "folder_path = \"/home/kkakarla/Development/git-projects/RAG/Langchain-RAG-chatbot/docs\"\n",
    "documents = load_documents(folder_path)\n",
    "\n",
    "print(f\"Loaded {len(documents)} documents from the folder.\")\n",
    "splits = text_splitter.split_documents(documents)\n",
    "print(f\"Split the documents into {len(splits)} chunks.\")"
   ]
  },
  {
   "cell_type": "code",
   "execution_count": 44,
   "metadata": {
    "colab": {
     "base_uri": "https://localhost:8080/"
    },
    "id": "KRD0I2D4NSkU",
    "outputId": "0d243630-4507-4d17-9300-8244b932f225"
   },
   "outputs": [
    {
     "name": "stderr",
     "output_type": "stream",
     "text": [
      "/home/kkakarla/Development/git-projects/venv/lib64/python3.11/site-packages/sentence_transformers/cross_encoder/CrossEncoder.py:11: TqdmExperimentalWarning: Using `tqdm.autonotebook.tqdm` in notebook mode. Use `tqdm.tqdm` instead to force console mode (e.g. in jupyter console)\n",
      "  from tqdm.autonotebook import tqdm, trange\n",
      "/home/kkakarla/Development/git-projects/venv/lib64/python3.11/site-packages/torch/cuda/__init__.py:619: UserWarning: Can't initialize NVML\n",
      "  warnings.warn(\"Can't initialize NVML\")\n"
     ]
    },
    {
     "name": "stdout",
     "output_type": "stream",
     "text": [
      "Created embeddings for 4 document chunks.\n"
     ]
    }
   ],
   "source": [
    "embeddings = HuggingFaceEmbeddings()\n",
    "\n",
    "# 4. Embedding Documents\n",
    "\n",
    "document_embeddings = embeddings.embed_documents([split.page_content for split in splits])\n",
    "\n",
    "print(f\"Created embeddings for {len(document_embeddings)} document chunks.\")"
   ]
  },
  {
   "cell_type": "code",
   "execution_count": 45,
   "metadata": {
    "id": "UKzaMunIUkKZ"
   },
   "outputs": [
    {
     "data": {
      "text/plain": [
       "[0.0648818090558052,\n",
       " 0.018800826743245125,\n",
       " -0.046932972967624664,\n",
       " 0.006365220993757248,\n",
       " -0.04207936301827431,\n",
       " -0.012168326415121555,\n",
       " 0.017815927043557167,\n",
       " 0.006736586801707745,\n",
       " 0.027553094550967216,\n",
       " -0.022305235266685486,\n",
       " 0.03175883740186691,\n",
       " 0.057454586029052734,\n",
       " -0.019073404371738434,\n",
       " 0.05308182165026665,\n",
       " 0.014643300324678421,\n",
       " -0.04887054115533829,\n",
       " 0.029301609843969345,\n",
       " -0.00017492080223746598,\n",
       " 0.019882511347532272,\n",
       " 0.006077866069972515,\n",
       " -0.017813818529248238,\n",
       " -0.010979913175106049,\n",
       " -0.03378232568502426,\n",
       " 0.010563940741121769,\n",
       " -0.027939926832914352,\n",
       " -0.0036256099119782448,\n",
       " -0.002171413041651249,\n",
       " -0.014232911169528961,\n",
       " 0.006182192824780941,\n",
       " -0.02790074795484543,\n",
       " -0.023442523553967476,\n",
       " -0.008620800450444221,\n",
       " -0.009038279764354229,\n",
       " 0.038681890815496445,\n",
       " 2.184052846132545e-06,\n",
       " -0.0643359124660492,\n",
       " 0.010319344699382782,\n",
       " -0.0019997279159724712,\n",
       " -0.07483778148889542,\n",
       " -0.018127772957086563,\n",
       " -0.035964127629995346,\n",
       " 0.061379965394735336,\n",
       " 0.0034514351282268763,\n",
       " 0.040783580392599106,\n",
       " -0.07758888602256775,\n",
       " 0.03623134642839432,\n",
       " 0.0025618302170187235,\n",
       " 0.05009332671761513,\n",
       " 0.006538202054798603,\n",
       " 0.03372391313314438,\n",
       " -0.0039498028345406055,\n",
       " 0.013202064670622349,\n",
       " 0.03947107493877411,\n",
       " 0.008951653726398945,\n",
       " 0.008605999872088432,\n",
       " -0.11023348569869995,\n",
       " 0.0037865545600652695,\n",
       " -0.05513006076216698,\n",
       " 0.04428476095199585,\n",
       " -0.04920780286192894,\n",
       " 0.00069444376276806,\n",
       " 0.03646472468972206,\n",
       " 0.015385249629616737,\n",
       " 0.00517860846593976,\n",
       " 0.010045100003480911,\n",
       " 0.01913011446595192,\n",
       " -0.025238437578082085,\n",
       " 5.713029167964123e-06,\n",
       " -0.017285596579313278,\n",
       " 0.033160533756017685,\n",
       " 0.028048358857631683,\n",
       " 0.0371401309967041,\n",
       " 0.0030361569952219725,\n",
       " -0.004747127182781696,\n",
       " 0.015509354881942272,\n",
       " -0.030234061181545258,\n",
       " 0.003209739690646529,\n",
       " 0.031696852296590805,\n",
       " -0.01757904700934887,\n",
       " -0.05536796525120735,\n",
       " 0.0065793246030807495,\n",
       " 0.04483981058001518,\n",
       " 0.01790006086230278,\n",
       " 0.009893233887851238,\n",
       " -0.011212770827114582,\n",
       " 0.08947079628705978,\n",
       " -0.009546447545289993,\n",
       " -0.024294530972838402,\n",
       " 0.026148416101932526,\n",
       " -0.015072477050125599,\n",
       " 0.05272810533642769,\n",
       " -0.040008652955293655,\n",
       " 0.014627636410295963,\n",
       " 0.03423769026994705,\n",
       " -0.042007926851511,\n",
       " -0.022486593574285507,\n",
       " -0.017312943935394287,\n",
       " -0.012607662007212639,\n",
       " -0.024721981957554817,\n",
       " -0.03381655737757683,\n",
       " 0.03564225509762764,\n",
       " 0.011355594731867313,\n",
       " 0.00668425764888525,\n",
       " 0.04537732154130936,\n",
       " 0.012318864464759827,\n",
       " 0.11326931416988373,\n",
       " -0.042842622846364975,\n",
       " -0.04248189181089401,\n",
       " -0.05392347276210785,\n",
       " 0.011397343128919601,\n",
       " -0.057460967451334,\n",
       " -0.012047131545841694,\n",
       " -0.024952292442321777,\n",
       " 0.04994836449623108,\n",
       " -0.022289032116532326,\n",
       " -0.02056954987347126,\n",
       " -0.0001898619084386155,\n",
       " 0.03586455434560776,\n",
       " -0.06831984966993332,\n",
       " 0.05292205139994621,\n",
       " -0.03697313368320465,\n",
       " 0.072386734187603,\n",
       " 0.016157226637005806,\n",
       " -0.006628187373280525,\n",
       " -0.06605467945337296,\n",
       " -0.031643252819776535,\n",
       " -0.05981997400522232,\n",
       " 0.024973440915346146,\n",
       " -0.014713655225932598,\n",
       " -0.03934838995337486,\n",
       " 0.03712550178170204,\n",
       " 0.0037147661205381155,\n",
       " 0.007194736506789923,\n",
       " -0.03584448620676994,\n",
       " 0.036139972507953644,\n",
       " 0.02603084221482277,\n",
       " 0.003792308736592531,\n",
       " -0.0033143586479127407,\n",
       " -0.015143848024308681,\n",
       " -0.04112223908305168,\n",
       " 0.018385816365480423,\n",
       " -0.023895377293229103,\n",
       " 0.011759864166378975,\n",
       " -0.015255761332809925,\n",
       " 0.024396728724241257,\n",
       " -0.02214161492884159,\n",
       " -0.01454143226146698,\n",
       " 0.0227131936699152,\n",
       " -0.004228037316352129,\n",
       " 0.029230019077658653,\n",
       " -0.010330228134989738,\n",
       " 0.0516342930495739,\n",
       " -0.04082930460572243,\n",
       " -0.001725686015561223,\n",
       " 0.06383718550205231,\n",
       " -0.0017240605084225535,\n",
       " 0.006576179526746273,\n",
       " 0.018199853599071503,\n",
       " 0.006996041163802147,\n",
       " 0.03158535063266754,\n",
       " 0.028727350756525993,\n",
       " -0.0046941544860601425,\n",
       " 0.03394047170877457,\n",
       " 0.022994136437773705,\n",
       " -0.0039000771939754486,\n",
       " -0.045941829681396484,\n",
       " 0.01802106946706772,\n",
       " 0.052051495760679245,\n",
       " -0.02937222830951214,\n",
       " 0.05875003710389137,\n",
       " -0.03348667919635773,\n",
       " 0.03710833564400673,\n",
       " -0.00934743694961071,\n",
       " 0.04243369773030281,\n",
       " 0.06273690611124039,\n",
       " 0.019333649426698685,\n",
       " -0.00452947523444891,\n",
       " 0.07409586012363434,\n",
       " 0.025855164974927902,\n",
       " -0.02735934406518936,\n",
       " 0.02076807990670204,\n",
       " -0.034015245735645294,\n",
       " -0.033221736550331116,\n",
       " 0.01384560577571392,\n",
       " -0.04614400491118431,\n",
       " 0.014434363692998886,\n",
       " -0.03315461799502373,\n",
       " -0.014241271652281284,\n",
       " -0.0013316017575562,\n",
       " -0.013763323426246643,\n",
       " 0.01291156467050314,\n",
       " 0.0029587368480861187,\n",
       " 0.01996198296546936,\n",
       " 0.010197306051850319,\n",
       " 0.029313866049051285,\n",
       " -0.040972668677568436,\n",
       " -0.0582720972597599,\n",
       " -0.030054323375225067,\n",
       " -0.05073715001344681,\n",
       " -0.01725742407143116,\n",
       " -0.051595088094472885,\n",
       " -0.09083843976259232,\n",
       " 0.005535436328500509,\n",
       " 0.10629294067621231,\n",
       " 0.04807867109775543,\n",
       " -0.06292925029993057,\n",
       " 0.017961561679840088,\n",
       " -0.014704879373311996,\n",
       " -0.0238246601074934,\n",
       " 0.01124261412769556,\n",
       " 0.040426455438137054,\n",
       " -0.008976972661912441,\n",
       " -0.006845925934612751,\n",
       " -0.0036269817501306534,\n",
       " -0.026833808049559593,\n",
       " -0.005111489910632372,\n",
       " -0.005268620327115059,\n",
       " 0.014894897118210793,\n",
       " -0.026189632713794708,\n",
       " 0.05199292302131653,\n",
       " -0.04489760100841522,\n",
       " 0.001641565002501011,\n",
       " 0.05247282236814499,\n",
       " 0.00131368322763592,\n",
       " -0.008759118616580963,\n",
       " -0.052033018320798874,\n",
       " -0.013401716016232967,\n",
       " 0.02799518220126629,\n",
       " 0.019076012074947357,\n",
       " 0.07185062766075134,\n",
       " -0.005270293913781643,\n",
       " 0.01899040676653385,\n",
       " 0.022321335971355438,\n",
       " -0.024782637134194374,\n",
       " -0.022993171587586403,\n",
       " 0.02823634073138237,\n",
       " -0.020071012899279594,\n",
       " 0.06075263023376465,\n",
       " 0.01971137523651123,\n",
       " -0.049861133098602295,\n",
       " -0.006111827213317156,\n",
       " 0.06765040755271912,\n",
       " -0.01034508366137743,\n",
       " -0.015726441517472267,\n",
       " -0.0017499282257631421,\n",
       " -0.048393748700618744,\n",
       " 0.004402182996273041,\n",
       " 0.009593316353857517,\n",
       " -0.004811343736946583,\n",
       " -0.06231744959950447,\n",
       " -0.030506564304232597,\n",
       " -0.010207177139818668,\n",
       " 0.04271769896149635,\n",
       " 0.018822362646460533,\n",
       " -0.013075750321149826,\n",
       " 0.011545751243829727,\n",
       " -0.06511279940605164,\n",
       " 0.028478140011429787,\n",
       " -0.06376385688781738,\n",
       " 0.0017691219691187143,\n",
       " 0.009134930558502674,\n",
       " -0.00967978872358799,\n",
       " 0.009123032912611961,\n",
       " 0.03565331920981407,\n",
       " -0.021001752465963364,\n",
       " -0.04304401949048042,\n",
       " 0.047422729432582855,\n",
       " -0.08283210545778275,\n",
       " 0.002225456992164254,\n",
       " 0.0019638403318822384,\n",
       " -0.005087551195174456,\n",
       " -0.00569169269874692,\n",
       " -0.001981921261176467,\n",
       " 0.004220150411128998,\n",
       " -0.000663437822367996,\n",
       " -0.002640646882355213,\n",
       " -0.018829483538866043,\n",
       " 0.01093244832009077,\n",
       " -0.004920738749206066,\n",
       " 0.03275185078382492,\n",
       " 0.01593545451760292,\n",
       " 0.009815659373998642,\n",
       " -0.03558673337101936,\n",
       " 0.015528610907495022,\n",
       " -0.04871921241283417,\n",
       " 0.006883368827402592,\n",
       " 0.04810245707631111,\n",
       " -0.028203817084431648,\n",
       " -0.01470219623297453,\n",
       " 0.010486616753041744,\n",
       " -0.039035968482494354,\n",
       " 0.02187921106815338,\n",
       " 0.00044607202289626,\n",
       " 0.005088099278509617,\n",
       " 0.027200788259506226,\n",
       " -0.030293500050902367,\n",
       " -0.026769381016492844,\n",
       " 0.0928436815738678,\n",
       " 0.00480807526037097,\n",
       " 0.016495537012815475,\n",
       " 0.019701054319739342,\n",
       " -0.042022425681352615,\n",
       " 0.0004151896573603153,\n",
       " 0.03212732821702957,\n",
       " 0.010069379583001137,\n",
       " 0.058748241513967514,\n",
       " -0.031923770904541016,\n",
       " -0.006893782410770655,\n",
       " -0.00092488614609465,\n",
       " 0.009979087859392166,\n",
       " 0.011877341195940971,\n",
       " 0.012064245529472828,\n",
       " -0.004468541592359543,\n",
       " 0.029772022739052773,\n",
       " 0.023512443527579308,\n",
       " -0.04058639705181122,\n",
       " -0.051251135766506195,\n",
       " -0.04553885757923126,\n",
       " -0.028774116188287735,\n",
       " 0.06357695162296295,\n",
       " -0.02137659676373005,\n",
       " -0.035055626183748245,\n",
       " 0.037525638937950134,\n",
       " 0.022152408957481384,\n",
       " 0.06489197164773941,\n",
       " -0.04234759882092476,\n",
       " 0.0018162726191803813,\n",
       " 0.01809658668935299,\n",
       " 0.10867555439472198,\n",
       " -0.02738652564585209,\n",
       " 0.014478509314358234,\n",
       " -0.06740766018629074,\n",
       " -0.01508791372179985,\n",
       " -0.018250659108161926,\n",
       " -0.012189533561468124,\n",
       " 0.024466266855597496,\n",
       " -0.04416333884000778,\n",
       " -0.012221948243677616,\n",
       " -0.04689949005842209,\n",
       " 0.0005503829452209175,\n",
       " -0.01723642274737358,\n",
       " -0.015352199785411358,\n",
       " -0.04208650067448616,\n",
       " -0.0043255905620753765,\n",
       " -0.08985814452171326,\n",
       " 0.012731202878057957,\n",
       " 0.09037218987941742,\n",
       " -0.027730196714401245,\n",
       " -0.0620080903172493,\n",
       " -0.039812639355659485,\n",
       " 0.050557736307382584,\n",
       " 0.026834210380911827,\n",
       " 0.012207693420350552,\n",
       " -0.01267267670482397,\n",
       " 0.002010405994951725,\n",
       " -0.02611173316836357,\n",
       " 0.012684961780905724,\n",
       " 0.06462503969669342,\n",
       " 0.03453965112566948,\n",
       " 0.04297921061515808,\n",
       " 0.055740635842084885,\n",
       " 0.03458390012383461,\n",
       " 0.0593840628862381,\n",
       " -0.03678293526172638,\n",
       " -0.04147116839885712,\n",
       " -0.022047994658350945,\n",
       " -0.0003963710623793304,\n",
       " -0.02226717211306095,\n",
       " -0.03911494091153145,\n",
       " 0.013379965908825397,\n",
       " 0.03271756321191788,\n",
       " -0.01861819438636303,\n",
       " -0.0002199006121372804,\n",
       " 0.055076636373996735,\n",
       " 0.025133201852440834,\n",
       " 0.014401203021407127,\n",
       " -0.00283407443203032,\n",
       " -0.007898758165538311,\n",
       " -0.06926123797893524,\n",
       " 0.03954687714576721,\n",
       " 0.05641644075512886,\n",
       " -0.10697231441736221,\n",
       " -0.030329251661896706,\n",
       " 0.014245713129639626,\n",
       " 0.020634906366467476,\n",
       " -0.046618685126304626,\n",
       " -0.06546427309513092,\n",
       " 0.006049816496670246,\n",
       " -0.11429579555988312,\n",
       " 0.03812038525938988,\n",
       " -0.04245384782552719,\n",
       " -0.0008969057817012072,\n",
       " -0.06250058114528656,\n",
       " -0.004919294733554125,\n",
       " -0.0406951829791069,\n",
       " -0.008762174285948277,\n",
       " 0.004522249568253756,\n",
       " 0.007359128911048174,\n",
       " -0.0010638441890478134,\n",
       " -0.008586259558796883,\n",
       " -0.0015834154328331351,\n",
       " -0.058482784777879715,\n",
       " 0.013857926242053509,\n",
       " 0.02726016566157341,\n",
       " -0.02853669412434101,\n",
       " -0.02100938744843006,\n",
       " 0.12440353631973267,\n",
       " 0.03999808058142662,\n",
       " -0.015376520343124866,\n",
       " 0.004365891683846712,\n",
       " -0.05724745988845825,\n",
       " 0.029959091916680336,\n",
       " 0.0562429204583168,\n",
       " -0.01425198931246996,\n",
       " 0.08865643292665482,\n",
       " 0.009206066839396954,\n",
       " -0.0052460976876318455,\n",
       " -0.030801260843873024,\n",
       " 0.005411946214735508,\n",
       " -0.030286896973848343,\n",
       " 0.04528605937957764,\n",
       " 0.08691855520009995,\n",
       " 0.06552792340517044,\n",
       " -0.04006939008831978,\n",
       " -0.023512626066803932,\n",
       " -0.054633576422929764,\n",
       " -0.04964577779173851,\n",
       " -0.0014552416978403926,\n",
       " 0.037668488919734955,\n",
       " -0.023340780287981033,\n",
       " -0.040531132370233536,\n",
       " -0.04051007702946663,\n",
       " -0.02043658122420311,\n",
       " 0.027174007147550583,\n",
       " -0.012901363894343376,\n",
       " 0.01778639666736126,\n",
       " -0.009412920102477074,\n",
       " -0.004549399483948946,\n",
       " -0.0019050020491704345,\n",
       " -0.09176844358444214,\n",
       " -0.03776872530579567,\n",
       " 0.03076346404850483,\n",
       " 0.007419348694384098,\n",
       " 0.013504843227565289,\n",
       " -0.04883470758795738,\n",
       " -0.030838750302791595,\n",
       " 0.03675689548254013,\n",
       " -0.07969845831394196,\n",
       " -0.03006531111896038,\n",
       " 0.04517051950097084,\n",
       " 0.04236399382352829,\n",
       " -0.011379122734069824,\n",
       " 0.02146407589316368,\n",
       " -0.005749913863837719,\n",
       " -0.07488872110843658,\n",
       " -0.021013349294662476,\n",
       " -0.01564953848719597,\n",
       " 0.004200241062790155,\n",
       " -0.0014952339697629213,\n",
       " 0.01253800094127655,\n",
       " 0.09863791614770889,\n",
       " 0.017096327617764473,\n",
       " -0.010788489133119583,\n",
       " 0.007960639894008636,\n",
       " -0.039332449436187744,\n",
       " 0.056220605969429016,\n",
       " 0.0715545266866684,\n",
       " -0.033179864287376404,\n",
       " 0.01011132262647152,\n",
       " 0.007980791851878166,\n",
       " -0.009145145304501057,\n",
       " -0.02015799656510353,\n",
       " 0.00522223487496376,\n",
       " -0.04074312746524811,\n",
       " -0.020747877657413483,\n",
       " -0.012493282556533813,\n",
       " 0.01761302910745144,\n",
       " -0.013974234461784363,\n",
       " 0.016344666481018066,\n",
       " 0.0019513388397172093,\n",
       " 0.039111096411943436,\n",
       " -0.01144816167652607,\n",
       " 0.02599715255200863,\n",
       " 0.04563955217599869,\n",
       " 0.000217293287278153,\n",
       " 0.004471265710890293,\n",
       " -0.011477664113044739,\n",
       " -0.01287451758980751,\n",
       " -0.011523684486746788,\n",
       " -0.015785520896315575,\n",
       " -0.027107911184430122,\n",
       " 0.0208200104534626,\n",
       " 0.028194794431328773,\n",
       " -0.0003554976137820631,\n",
       " -0.024611327797174454,\n",
       " -0.07152403891086578,\n",
       " -0.06849290430545807,\n",
       " 0.037351109087467194,\n",
       " 0.06491338461637497,\n",
       " 0.11594828963279724,\n",
       " -0.031311746686697006,\n",
       " -0.00083024927880615,\n",
       " 0.01884864829480648,\n",
       " 0.06218593567609787,\n",
       " 0.009427317418158054,\n",
       " 0.05715161934494972,\n",
       " 0.008196130394935608,\n",
       " 0.05048413574695587,\n",
       " -0.0013480959460139275,\n",
       " -0.014979103580117226,\n",
       " -0.028914356604218483,\n",
       " 0.011953400447964668,\n",
       " -0.08076700568199158,\n",
       " -0.10774088650941849,\n",
       " 0.05344323441386223,\n",
       " 0.06484021991491318,\n",
       " 0.04014570266008377,\n",
       " 0.01683579571545124,\n",
       " -0.026972612366080284,\n",
       " -0.009878893382847309,\n",
       " -0.008735867217183113,\n",
       " 0.02484394982457161,\n",
       " -0.014071463607251644,\n",
       " 0.019809048622846603,\n",
       " 0.030356919392943382,\n",
       " -0.014409543946385384,\n",
       " 0.039572931826114655,\n",
       " -0.01162472739815712,\n",
       " 0.02092416025698185,\n",
       " 0.021305566653609276,\n",
       " -0.01799972541630268,\n",
       " 0.05013515055179596,\n",
       " -0.017435172572731972,\n",
       " -0.007964417338371277,\n",
       " -0.04266367480158806,\n",
       " -0.03354039415717125,\n",
       " 0.02784142643213272,\n",
       " 0.09103533625602722,\n",
       " 0.012782908044755459,\n",
       " -0.02550063095986843,\n",
       " -0.006184263154864311,\n",
       " -0.0039558205753564835,\n",
       " 0.08239888399839401,\n",
       " 0.02802230231463909,\n",
       " 0.03458290919661522,\n",
       " -0.0460209921002388,\n",
       " 0.045323699712753296,\n",
       " 0.04832877218723297,\n",
       " 0.012391611933708191,\n",
       " -0.05915764719247818,\n",
       " 0.0071765948086977005,\n",
       " 0.034035906195640564,\n",
       " -0.11799400299787521,\n",
       " 0.03142325207591057,\n",
       " -0.031890034675598145,\n",
       " -6.223898755506397e-33,\n",
       " 0.03857963904738426,\n",
       " -0.022279957309365273,\n",
       " 0.019195348024368286,\n",
       " -0.02692013792693615,\n",
       " -0.012373240664601326,\n",
       " 0.016465529799461365,\n",
       " -0.012303721159696579,\n",
       " 0.003943139687180519,\n",
       " -0.052432868629693985,\n",
       " 0.03447969630360603,\n",
       " -0.0819452777504921,\n",
       " 0.029021278023719788,\n",
       " -0.0012195479357615113,\n",
       " -0.0200885608792305,\n",
       " 0.043127864599227905,\n",
       " -0.03983496129512787,\n",
       " 0.030048437416553497,\n",
       " -0.011043330654501915,\n",
       " -0.005720281507819891,\n",
       " 0.042877890169620514,\n",
       " -0.005494558252394199,\n",
       " 0.003428505966439843,\n",
       " 0.017841963097453117,\n",
       " -0.06554463505744934,\n",
       " 0.016360580921173096,\n",
       " -0.0021660192869603634,\n",
       " -0.034693118184804916,\n",
       " 0.01817784644663334,\n",
       " -0.01483098603785038,\n",
       " 0.0048116035759449005,\n",
       " -0.02023998461663723,\n",
       " 0.026140131056308746,\n",
       " 0.01779005490243435,\n",
       " -0.028604919090867043,\n",
       " 0.02155294455587864,\n",
       " 0.024938568472862244,\n",
       " -0.029056156054139137,\n",
       " -0.010372214019298553,\n",
       " -0.027787242084741592,\n",
       " -0.003215096890926361,\n",
       " -0.02848963811993599,\n",
       " -0.009153363294899464,\n",
       " 0.02641335316002369,\n",
       " 0.021635957062244415,\n",
       " -0.03660091385245323,\n",
       " 0.017238499596714973,\n",
       " 0.04821005091071129,\n",
       " -0.04092497006058693,\n",
       " 0.014291556552052498,\n",
       " -0.023018766194581985,\n",
       " -0.011737097054719925,\n",
       " 0.0025958314072340727,\n",
       " -0.03505372628569603,\n",
       " 0.020862124860286713,\n",
       " 0.002734001027420163,\n",
       " 0.0011159058194607496,\n",
       " -0.022017842158675194,\n",
       " -0.010170363821089268,\n",
       " -0.06651481986045837,\n",
       " 0.04773472994565964,\n",
       " 0.004103922750800848,\n",
       " -0.03994547948241234,\n",
       " 0.04294714704155922,\n",
       " -0.00011343518417561427,\n",
       " -0.004487351514399052,\n",
       " 0.01872200146317482,\n",
       " 0.06914756447076797,\n",
       " 0.002737940289080143,\n",
       " 0.007250845432281494,\n",
       " 0.014870942570269108,\n",
       " -0.036916594952344894,\n",
       " 0.10133994370698929,\n",
       " 0.06661733239889145,\n",
       " 0.0328090600669384,\n",
       " -0.01003311201930046,\n",
       " -0.03704868629574776,\n",
       " -0.024104023352265358,\n",
       " 0.042103152722120285,\n",
       " 0.09508353471755981,\n",
       " -0.013849816285073757,\n",
       " -0.013691319152712822,\n",
       " -0.03704897314310074,\n",
       " -0.05184892192482948,\n",
       " 0.010585949756205082,\n",
       " 4.062175139551982e-05,\n",
       " -0.01665169931948185,\n",
       " -0.03736485540866852,\n",
       " 0.01545320451259613,\n",
       " 0.03329618275165558,\n",
       " -0.024433568120002747,\n",
       " -0.009632771834731102,\n",
       " 0.002360530663281679,\n",
       " 0.005590238142758608,\n",
       " -0.035258788615465164,\n",
       " 0.028626499697566032,\n",
       " -0.0293552428483963,\n",
       " 0.003199166851118207,\n",
       " 0.024777593091130257,\n",
       " 0.013291548937559128,\n",
       " -0.027054136618971825,\n",
       " -0.046835754066705704,\n",
       " -0.011962629854679108,\n",
       " -0.025230875238776207,\n",
       " 0.047767698764801025,\n",
       " 0.03848124295473099,\n",
       " 0.019397515803575516,\n",
       " -0.03918205946683884,\n",
       " 0.010386738926172256,\n",
       " -0.018024228513240814,\n",
       " -0.010727135464549065,\n",
       " 0.009630662389099598,\n",
       " 0.03282207250595093,\n",
       " -0.014587711542844772,\n",
       " -0.053277887403964996,\n",
       " 0.009645036421716213,\n",
       " 0.004080990795046091,\n",
       " 0.02830788493156433,\n",
       " 0.04259148985147476,\n",
       " 0.0001279545685974881,\n",
       " 0.030633235350251198,\n",
       " -0.04730379953980446,\n",
       " -0.05442723631858826,\n",
       " -0.008724451065063477,\n",
       " 0.00724834343418479,\n",
       " -0.025824902579188347,\n",
       " -0.019509369507431984,\n",
       " -0.040434375405311584,\n",
       " 0.027531448751688004,\n",
       " -0.04793588072061539,\n",
       " -0.06513387709856033,\n",
       " -0.032576583325862885,\n",
       " 0.005575533024966717,\n",
       " 2.8819934527746227e-07,\n",
       " -0.019674744457006454,\n",
       " 0.0781954675912857,\n",
       " 0.0049638268537819386,\n",
       " -0.03510161489248276,\n",
       " 0.008119831793010235,\n",
       " 0.033886563032865524,\n",
       " 0.015451830811798573,\n",
       " -0.001591765321791172,\n",
       " 0.013584895990788937,\n",
       " 0.05413477122783661,\n",
       " 0.04715335741639137,\n",
       " 0.005639899522066116,\n",
       " 0.004890089854598045,\n",
       " -0.008011845871806145,\n",
       " -0.040931012481451035,\n",
       " -0.09112004190683365,\n",
       " -0.04164956882596016,\n",
       " 0.0011980060953646898,\n",
       " -0.07717790454626083,\n",
       " 0.025511933490633965,\n",
       " 0.050607841461896896,\n",
       " 0.0384034626185894,\n",
       " 0.020669249817728996,\n",
       " -0.016894470900297165,\n",
       " 0.04600924253463745,\n",
       " -0.05809229984879494,\n",
       " -0.016692597419023514,\n",
       " 0.0003706307034008205,\n",
       " 0.050543203949928284,\n",
       " -0.029699120670557022,\n",
       " -0.01527793426066637,\n",
       " 0.03179747983813286,\n",
       " -0.045340318232774734,\n",
       " 0.022213950753211975,\n",
       " -0.012232866138219833,\n",
       " 0.04146740585565567,\n",
       " -0.013817227445542812,\n",
       " 0.026171712204813957,\n",
       " -0.029541200026869774,\n",
       " -0.0019340493017807603,\n",
       " 0.005163464695215225,\n",
       " -0.006523011717945337,\n",
       " 0.01344342902302742,\n",
       " -0.016002530232071877,\n",
       " 0.07347476482391357,\n",
       " -0.017255518585443497,\n",
       " -0.036670245230197906,\n",
       " -0.06229978799819946,\n",
       " -0.035846177488565445,\n",
       " -0.028538307175040245,\n",
       " 0.007455368060618639,\n",
       " 0.01187680009752512,\n",
       " 0.01500794943422079,\n",
       " -0.011132949031889439,\n",
       " -0.018135027959942818,\n",
       " -0.014418449252843857,\n",
       " -0.0010387147776782513,\n",
       " -0.01169942319393158,\n",
       " 0.04943440109491348,\n",
       " 0.0025191791355609894,\n",
       " -0.041377875953912735,\n",
       " -0.06274988502264023,\n",
       " -0.029492534697055817,\n",
       " 0.004383211024105549,\n",
       " 0.015517150051891804,\n",
       " 0.015425866469740868,\n",
       " 0.022646648809313774,\n",
       " 2.2480378962091013e-34,\n",
       " 0.01129006128758192,\n",
       " 0.005798726342618465,\n",
       " 0.008352193981409073,\n",
       " 0.01980605348944664,\n",
       " 0.051489993929862976,\n",
       " 0.02276856079697609,\n",
       " -0.03933880478143692,\n",
       " -0.0005566862528212368,\n",
       " 0.04475371539592743,\n",
       " -0.031107431277632713,\n",
       " -0.028207220137119293]"
      ]
     },
     "execution_count": 45,
     "metadata": {},
     "output_type": "execute_result"
    }
   ],
   "source": [
    "document_embeddings[0]"
   ]
  },
  {
   "cell_type": "code",
   "execution_count": 46,
   "metadata": {
    "id": "6t0XRI1zuTcW"
   },
   "outputs": [
    {
     "name": "stderr",
     "output_type": "stream",
     "text": [
      "/home/kkakarla/Development/git-projects/venv/lib64/python3.11/site-packages/langchain_core/_api/deprecation.py:139: LangChainDeprecationWarning: The class `HuggingFaceEmbeddings` was deprecated in LangChain 0.2.2 and will be removed in 0.3.0. An updated version of the class exists in the langchain-huggingface package and should be used instead. To use it run `pip install -U langchain-huggingface` and import as `from langchain_huggingface import HuggingFaceEmbeddings`.\n",
      "  warn_deprecated(\n"
     ]
    },
    {
     "data": {
      "text/plain": [
       "[-0.08797682076692581,\n",
       " -0.05038750171661377,\n",
       " 0.025851113721728325,\n",
       " 0.0027760090306401253,\n",
       " -0.03903089091181755,\n",
       " 0.08132871240377426,\n",
       " 0.022626835852861404,\n",
       " 0.0735144168138504,\n",
       " 0.020771879702806473,\n",
       " -0.010132277384400368,\n",
       " -0.06287723779678345,\n",
       " 0.041981857270002365,\n",
       " 0.09130679816007614,\n",
       " -0.018540509045124054,\n",
       " 0.0008228500955738127,\n",
       " 0.06177208572626114,\n",
       " 0.06127754971385002,\n",
       " -0.08280260115861893,\n",
       " -0.07051585614681244,\n",
       " -0.10585687309503555,\n",
       " -0.047503456473350525,\n",
       " -0.014568772166967392,\n",
       " 0.022720186039805412,\n",
       " -0.06251261383295059,\n",
       " 0.03204067423939705,\n",
       " 0.02700805850327015,\n",
       " 0.01725250668823719,\n",
       " -0.058455631136894226,\n",
       " -0.01706349477171898,\n",
       " 0.019619479775428772,\n",
       " 0.008090189658105373,\n",
       " -0.037836626172065735,\n",
       " 0.02932380512356758,\n",
       " 0.08000637590885162,\n",
       " -0.047701336443424225,\n",
       " -0.003315580543130636,\n",
       " -0.019049279391765594,\n",
       " -0.027199089527130127,\n",
       " 0.058563437312841415,\n",
       " -0.05022890120744705,\n",
       " -0.0808422714471817,\n",
       " -0.07360894978046417,\n",
       " -0.054800037294626236,\n",
       " -0.031689662486314774,\n",
       " 0.09241577982902527,\n",
       " 0.02898682840168476,\n",
       " -0.06336399912834167,\n",
       " -0.04317421838641167,\n",
       " 0.009687635116279125,\n",
       " -0.0009016094263643026,\n",
       " -0.1584552526473999,\n",
       " -0.043671172112226486,\n",
       " 0.07123903930187225,\n",
       " 0.040341101586818695,\n",
       " -0.0367007702589035,\n",
       " 0.06428257375955582,\n",
       " -0.0817679688334465,\n",
       " 0.06938520818948746,\n",
       " 0.029602212831377983,\n",
       " -0.014793509617447853,\n",
       " -0.02992238849401474,\n",
       " -0.07589225471019745,\n",
       " 0.03098987229168415,\n",
       " 0.03231862187385559,\n",
       " 0.040381383150815964,\n",
       " 0.030869390815496445,\n",
       " -0.08705516904592514,\n",
       " -0.026939529925584793,\n",
       " -0.008731471374630928,\n",
       " -0.00524482037872076,\n",
       " 0.05579322576522827,\n",
       " 0.014829029329121113,\n",
       " -0.04941096901893616,\n",
       " -0.0015473321545869112,\n",
       " 0.003066381672397256,\n",
       " 0.005126998294144869,\n",
       " 0.003702346235513687,\n",
       " -0.021575750783085823,\n",
       " 0.10473179817199707,\n",
       " -0.028611795976758003,\n",
       " -0.018353017047047615,\n",
       " -0.0762694850564003,\n",
       " 0.0012068358482792974,\n",
       " 0.12274903059005737,\n",
       " 0.02086985670030117,\n",
       " -0.001005119294859469,\n",
       " 0.00489883404225111,\n",
       " 0.0023687263019382954,\n",
       " -0.03211309760808945,\n",
       " -0.0032165159936994314,\n",
       " 0.007535818964242935,\n",
       " -0.08753250539302826,\n",
       " 0.06412247568368912,\n",
       " -0.01195133663713932,\n",
       " 0.024180227890610695,\n",
       " 0.04234490543603897,\n",
       " -0.08127645403146744,\n",
       " -0.024011729285120964,\n",
       " 0.032109227031469345,\n",
       " 0.027295026928186417,\n",
       " -0.00553179020062089,\n",
       " 0.07108050584793091,\n",
       " -0.003930444363504648,\n",
       " -0.042461592704057693,\n",
       " 0.042936231940984726,\n",
       " 0.02900008298456669,\n",
       " 0.01889658346772194,\n",
       " 0.019300706684589386,\n",
       " 0.1084863543510437,\n",
       " -0.06536164879798889,\n",
       " -0.01761310175061226,\n",
       " -0.025834299623966217,\n",
       " 0.03975314646959305,\n",
       " -0.018451428040862083,\n",
       " -0.03095514141023159,\n",
       " -0.0147160729393363,\n",
       " -0.05208979547023773,\n",
       " 0.06351344287395477,\n",
       " 0.008002356626093388,\n",
       " 0.016942497342824936,\n",
       " 0.04735831171274185,\n",
       " 0.07980971038341522,\n",
       " -0.06792525202035904,\n",
       " 0.0651484876871109,\n",
       " -0.005751308519393206,\n",
       " 0.05879192799329758,\n",
       " -0.0634218156337738,\n",
       " 4.5090600458779964e-33,\n",
       " 0.013965065591037273,\n",
       " -0.0046733589842915535,\n",
       " 0.05358360335230827,\n",
       " 0.023379456251859665,\n",
       " -0.037747107446193695,\n",
       " 0.009217972867190838,\n",
       " -0.0035760251339524984,\n",
       " 0.019780922681093216,\n",
       " -0.07584764808416367,\n",
       " -0.028840413317084312,\n",
       " -0.06839249283075333,\n",
       " 0.06998462229967117,\n",
       " -0.006284813396632671,\n",
       " -0.04905649274587631,\n",
       " 0.06098264455795288,\n",
       " 0.0069331033155322075,\n",
       " -0.028517020866274834,\n",
       " 0.04265185073018074,\n",
       " 0.00738937733694911,\n",
       " 0.0017066890140995383,\n",
       " 0.10123873502016068,\n",
       " -0.029403097927570343,\n",
       " 0.06493540853261948,\n",
       " -0.03386935591697693,\n",
       " 0.023707576096057892,\n",
       " 0.023336544632911682,\n",
       " 0.06065649911761284,\n",
       " -0.030731845647096634,\n",
       " 0.059221554547548294,\n",
       " 0.0009949625236913562,\n",
       " -0.07367715239524841,\n",
       " 0.0021234166342765093,\n",
       " -0.11715008318424225,\n",
       " 0.07109208405017853,\n",
       " 0.0034383339807391167,\n",
       " 0.016983890905976295,\n",
       " -0.0002340946375625208,\n",
       " -0.03132710978388786,\n",
       " 0.019005998969078064,\n",
       " 0.08072125911712646,\n",
       " -0.13138297200202942,\n",
       " 0.0449896939098835,\n",
       " -0.0035015814937651157,\n",
       " -0.046678103506565094,\n",
       " -0.047173529863357544,\n",
       " -0.021221527829766273,\n",
       " -0.0009758435771800578,\n",
       " -0.03829280659556389,\n",
       " 0.013143720105290413,\n",
       " -0.01923716999590397,\n",
       " -0.03760995715856552,\n",
       " 0.0153254559263587,\n",
       " 0.10633193701505661,\n",
       " 0.017578117549419403,\n",
       " 0.11162997037172318,\n",
       " 0.024629250168800354,\n",
       " 0.11522950977087021,\n",
       " 0.09380301088094711,\n",
       " 0.03575340285897255,\n",
       " 0.04484826698899269,\n",
       " 0.062160272151231766,\n",
       " -0.03411126509308815,\n",
       " -0.018152432516217232,\n",
       " 0.05360914021730423,\n",
       " 0.018727365881204605,\n",
       " -0.007980776019394398,\n",
       " 0.010662759654223919,\n",
       " 0.055068112909793854,\n",
       " -0.0430372878909111,\n",
       " 0.07595828920602798,\n",
       " 0.03849923983216286,\n",
       " -0.019777899608016014,\n",
       " 0.014291053637862206,\n",
       " -0.029356401413679123,\n",
       " 0.01554920244961977,\n",
       " -0.06467077136039734,\n",
       " -0.07611946016550064,\n",
       " -0.08556193113327026,\n",
       " -0.01267443411052227,\n",
       " -0.00298602064140141,\n",
       " -0.009988559409976006,\n",
       " -0.0425289161503315,\n",
       " -0.04850010946393013,\n",
       " -0.014603547751903534,\n",
       " 5.168651568965288e-06,\n",
       " 0.020286934450268745,\n",
       " 0.0243974756449461,\n",
       " -0.058480653911828995,\n",
       " 0.01580524444580078,\n",
       " 0.01412136573344469,\n",
       " -0.050824057310819626,\n",
       " -0.05717065930366516,\n",
       " 0.0005969604244455695,\n",
       " 0.05185656249523163,\n",
       " -0.08268456161022186,\n",
       " -3.350485466867857e-33,\n",
       " -0.07659352570772171,\n",
       " -0.011347717605531216,\n",
       " -0.09662137925624847,\n",
       " 0.09587427973747253,\n",
       " 0.024484315887093544,\n",
       " -0.03937336429953575,\n",
       " 0.028574209660291672,\n",
       " -0.011132823303341866,\n",
       " 0.0006827313918620348,\n",
       " 0.03922403231263161,\n",
       " 0.06664715707302094,\n",
       " 0.0219171904027462,\n",
       " 0.05657001957297325,\n",
       " 0.04660136625170708,\n",
       " -0.038360752165317535,\n",
       " 0.04038793593645096,\n",
       " -0.044013455510139465,\n",
       " 0.01370327826589346,\n",
       " -0.0544254370033741,\n",
       " -0.03392425924539566,\n",
       " 0.04920044168829918,\n",
       " 0.09203378111124039,\n",
       " -0.08299034833908081,\n",
       " 0.004043102730065584,\n",
       " -0.020246505737304688,\n",
       " 0.020003648474812508,\n",
       " -0.03994430974125862,\n",
       " 0.033362820744514465,\n",
       " -0.00906877126544714,\n",
       " -0.006982394028455019,\n",
       " -0.08295578509569168,\n",
       " -0.02247050404548645,\n",
       " -0.0374317429959774,\n",
       " 0.012006326578557491,\n",
       " 0.017309576272964478,\n",
       " 0.07171556353569031,\n",
       " -0.000577291997615248,\n",
       " -0.13303932547569275,\n",
       " 0.02665773220360279,\n",
       " 0.0007711442303843796,\n",
       " 0.06353820115327835,\n",
       " -0.010821358300745487,\n",
       " -0.11468148231506348,\n",
       " 0.003823899431154132,\n",
       " 0.031334925442934036,\n",
       " 0.04453427717089653,\n",
       " -0.11507762968540192,\n",
       " 0.01950204186141491,\n",
       " 0.014475852251052856,\n",
       " -0.05537101998925209,\n",
       " 0.0035600976552814245,\n",
       " -0.0024366530124098063,\n",
       " -0.04195159301161766,\n",
       " -0.001118890242651105,\n",
       " -0.1245717778801918,\n",
       " -0.009689891710877419,\n",
       " -0.041543345898389816,\n",
       " 0.03955060616135597,\n",
       " 0.01867576129734516,\n",
       " 0.0638674795627594,\n",
       " -0.046107981353998184,\n",
       " -0.01516710501164198,\n",
       " 0.08437465131282806,\n",
       " 0.08134984970092773,\n",
       " -0.0007952791638672352,\n",
       " 0.059921298176050186,\n",
       " -0.011216193437576294,\n",
       " 0.09317651391029358,\n",
       " -0.11437293142080307,\n",
       " -0.10760962963104248,\n",
       " 0.03829478099942207,\n",
       " -0.023883728310465813,\n",
       " 0.018724774941802025,\n",
       " 0.08199352771043777,\n",
       " 0.045072369277477264,\n",
       " 0.038094691932201385,\n",
       " -0.08507857471704483,\n",
       " -0.04331962764263153,\n",
       " -0.029689345508813858,\n",
       " -0.013508964329957962,\n",
       " -0.013310839422047138,\n",
       " -0.019624948501586914,\n",
       " -0.005609011277556419,\n",
       " 0.1282808631658554,\n",
       " 0.011374088004231453,\n",
       " 0.04026040807366371,\n",
       " 0.01006814744323492,\n",
       " -0.04581668600440025,\n",
       " -0.06178129091858864,\n",
       " -0.013992494903504848,\n",
       " -0.03447987884283066,\n",
       " -0.03546156361699104,\n",
       " -0.009628827683627605,\n",
       " 0.09635277837514877,\n",
       " -0.05256469175219536,\n",
       " -4.1441779785600374e-08,\n",
       " -0.012516653165221214,\n",
       " 0.03403206542134285,\n",
       " 0.015196151100099087,\n",
       " 0.02507138065993786,\n",
       " 0.12481362372636795,\n",
       " -0.010826028883457184,\n",
       " -0.05217629671096802,\n",
       " 0.05934688076376915,\n",
       " 0.003201237181201577,\n",
       " 0.021058470010757446,\n",
       " 0.021366408094763756,\n",
       " -0.0650438666343689,\n",
       " -0.027608243748545647,\n",
       " 0.017515720799565315,\n",
       " 0.05110365152359009,\n",
       " 0.09939044713973999,\n",
       " -0.0016197494696825743,\n",
       " -0.002375200157985091,\n",
       " 0.033741243183612823,\n",
       " -0.020865432918071747,\n",
       " 0.10935761779546738,\n",
       " 0.02161368541419506,\n",
       " 0.018618008121848106,\n",
       " 0.023641470819711685,\n",
       " 0.01749444752931595,\n",
       " -0.060212209820747375,\n",
       " -0.06308607757091522,\n",
       " 0.0687192901968956,\n",
       " -0.04617879167199135,\n",
       " 0.00828702375292778,\n",
       " -0.10736311227083206,\n",
       " -0.008189373649656773,\n",
       " 0.04189816117286682,\n",
       " -0.03134536370635033,\n",
       " 0.05027403682470322,\n",
       " 0.07889901846647263,\n",
       " -0.032253604382276535,\n",
       " 0.023320365697145462,\n",
       " -0.016584770753979683,\n",
       " 0.012834451161324978,\n",
       " -0.09587554633617401,\n",
       " 0.04082971438765526,\n",
       " -0.09239505976438522,\n",
       " 0.0030620621982961893,\n",
       " 0.018427876755595207,\n",
       " 0.020664844661951065,\n",
       " -0.05882391706109047,\n",
       " -0.06194714084267616,\n",
       " 0.044516436755657196,\n",
       " 0.026157081127166748,\n",
       " 0.015359028242528439,\n",
       " -0.047415051609277725,\n",
       " 0.10266353189945221,\n",
       " 0.041670843958854675,\n",
       " 0.05562226474285126,\n",
       " 0.0028824997134506702,\n",
       " 0.010720252990722656,\n",
       " -0.05740750953555107,\n",
       " -0.007553706411272287,\n",
       " 0.05401492118835449,\n",
       " 0.04172741249203682,\n",
       " 0.027235617861151695,\n",
       " 0.03486921265721321,\n",
       " -0.031442198902368546]"
      ]
     },
     "execution_count": 46,
     "metadata": {},
     "output_type": "execute_result"
    }
   ],
   "source": [
    "# !pip install sentence_transformers\n",
    "from langchain_community.embeddings.sentence_transformer import SentenceTransformerEmbeddings\n",
    "embedding_function = SentenceTransformerEmbeddings(model_name=\"all-MiniLM-L6-v2\")\n",
    "document_embeddings = embedding_function.embed_documents([split.page_content for split in splits])\n",
    "document_embeddings[0]"
   ]
  },
  {
   "cell_type": "code",
   "execution_count": null,
   "metadata": {
    "id": "ru-QGlOTWGvv"
   },
   "outputs": [],
   "source": [
    "# !pip install langchain_chroma -q"
   ]
  },
  {
   "cell_type": "markdown",
   "metadata": {
    "id": "fgBuC-Xdu5gL"
   },
   "source": [
    "###Create and persist Chroma vector store"
   ]
  },
  {
   "cell_type": "code",
   "execution_count": 47,
   "metadata": {
    "colab": {
     "base_uri": "https://localhost:8080/"
    },
    "id": "5Ov-ElhBUpJB",
    "outputId": "8fcd703f-120c-46db-ba55-2bc1423c4da3"
   },
   "outputs": [
    {
     "name": "stdout",
     "output_type": "stream",
     "text": [
      "Vector store created and persisted to './chroma_db'\n"
     ]
    }
   ],
   "source": [
    "from langchain_chroma import Chroma\n",
    "\n",
    "embedding_function = HuggingFaceEmbeddings()\n",
    "collection_name = \"my_collection\"\n",
    "vectorstore = Chroma.from_documents(collection_name=collection_name, documents=splits, embedding=embedding_function, persist_directory=\"./chroma_db\")\n",
    "#db.persist()\n",
    "\n",
    "print(\"Vector store created and persisted to './chroma_db'\")"
   ]
  },
  {
   "cell_type": "code",
   "execution_count": 48,
   "metadata": {
    "colab": {
     "base_uri": "https://localhost:8080/"
    },
    "id": "uaRqFWA8u3I8",
    "outputId": "31309e8a-a5b0-4d65-8b36-993e8fc440af"
   },
   "outputs": [
    {
     "name": "stdout",
     "output_type": "stream",
     "text": [
      "\n",
      "Top 2 most relevant chunks for the query: 'When was IBM Watson founded?'\n",
      "\n",
      "Result 1:\n",
      "Source: /home/kkakarla/Development/git-projects/RAG/Langchain-RAG-chatbot/docs/IBM_Watson_History.docx\n",
      "Content: IBM’s research in AI goes back to the 1950s and includes significant milestones like the supercomputer Deep Blue defeating chess grandmaster Garry Kasparov. \n",
      "\n",
      "\n",
      "\n",
      "In 2011, IBM Watson defeated Brad Rutter and Ken Jennings in the Jeopardy! Challenge. To find and understand the clues in the questions, Watson compared possible answers by ranking its confidence in their accuracy, and responded — all in under three seconds.\n",
      "\n",
      "\n",
      "\n",
      "Watson sparked curiosity around “machines that could think” and opened up the possibilities around how AI could be applied to business. Clients in industries ranging from financial services to retail put Watson to work to unlock new insights, drive productivity and deliver better customer experiences. \n",
      "\n",
      "\n",
      "\n",
      "Now through advancements in core Watson technologies, IBM has developed the next generation AI and data platform and set of AI assistants with watsonx.\n",
      "\n",
      "\n",
      "\n",
      "How Watson has evolved AI over time\n",
      "\n",
      "\n",
      "\n",
      "2007\n",
      "\n",
      "IBM Watson\n",
      "\n",
      "Result 2:\n",
      "Source: /home/kkakarla/Development/git-projects/RAG/Langchain-RAG-chatbot/docs/IBM_Watson_History.docx\n",
      "Content: How Watson has evolved AI over time\n",
      "\n",
      "\n",
      "\n",
      "2007\n",
      "\n",
      "IBM Watson\n",
      "\n",
      "IBM Research started working on the grand challenge of building a computer system that could compete with champions at the game of Jeopardy!. Just four years later in 2011, the open-domain question-answering system dubbed Watson beat the two highest ranked players in a nationally televised two-game Jeopardy! Match.\n",
      "\n",
      "\n",
      "\n",
      "2013\n",
      "\n",
      "IBM Watson Developer Cloud\n",
      "\n",
      "IBM Watson technology became available as a development platform in the cloud. The move spurred innovation and fueled a new ecosystem of entrepreneurial software application providers–ranging from start-ups and emerging, venture capital-backed businesses to established players.\n",
      "\n",
      "\n",
      "\n",
      "\n",
      "\n",
      "2014\n",
      "\n",
      "IBM Watson Discovery Advisor\n",
      "\n",
      "IBM Watson Discovery Advisor was designed to cut through data quickly and find unexpected connections in raw data.\n",
      "\n",
      "\n",
      "\n",
      "2017\n",
      "\n",
      "IBM Watson NLP Library\n",
      "\n"
     ]
    }
   ],
   "source": [
    "# 5. Perform similarity search\n",
    "\n",
    "query = \"When was IBM Watson founded?\"\n",
    "search_results = vectorstore.similarity_search(query, k=2)\n",
    "\n",
    "print(f\"\\nTop 2 most relevant chunks for the query: '{query}'\\n\")\n",
    "for i, result in enumerate(search_results, 1):\n",
    "    print(f\"Result {i}:\")\n",
    "    print(f\"Source: {result.metadata.get('source', 'Unknown')}\")\n",
    "    print(f\"Content: {result.page_content}\")\n",
    "    print()"
   ]
  },
  {
   "cell_type": "code",
   "execution_count": 49,
   "metadata": {
    "colab": {
     "base_uri": "https://localhost:8080/"
    },
    "id": "FGkvzzIZvC2R",
    "outputId": "081f1019-f8a3-4dfa-9ed4-22f2d7198cfa"
   },
   "outputs": [
    {
     "data": {
      "text/plain": [
       "[Document(metadata={'source': '/home/kkakarla/Development/git-projects/RAG/Langchain-RAG-chatbot/docs/IBM_Watson_History.docx'}, page_content='IBM’s research in AI goes back to the 1950s and includes significant milestones like the supercomputer Deep Blue defeating chess grandmaster Garry Kasparov.\\xa0\\n\\n\\n\\nIn 2011, IBM Watson defeated Brad Rutter and Ken Jennings in the\\xa0Jeopardy!\\xa0Challenge.\\xa0To find and understand the clues in the questions, Watson compared possible answers by ranking its confidence in their accuracy, and responded —\\xa0all in under three seconds.\\n\\n\\n\\nWatson sparked curiosity around “machines that could think” and opened up the possibilities around how AI could be applied to business. Clients in industries ranging from financial services to retail put Watson to work to unlock new insights, drive productivity and deliver better customer experiences.\\xa0\\n\\n\\n\\nNow through advancements in core Watson technologies, IBM has developed the next generation AI and data platform and set of AI assistants with\\xa0watsonx.\\n\\n\\n\\nHow Watson has evolved AI over time\\n\\n\\n\\n2007\\n\\nIBM Watson'),\n",
       " Document(metadata={'source': '/home/kkakarla/Development/git-projects/RAG/Langchain-RAG-chatbot/docs/IBM_Watson_History.docx'}, page_content='How Watson has evolved AI over time\\n\\n\\n\\n2007\\n\\nIBM Watson\\n\\nIBM Research started working on the grand challenge of building a computer system that could compete with champions at the game of Jeopardy!. Just four years later in 2011, the open-domain question-answering system dubbed Watson beat the two highest ranked players in a nationally televised two-game Jeopardy! Match.\\n\\n\\n\\n2013\\n\\nIBM Watson Developer Cloud\\n\\nIBM Watson technology became available as a development platform in the cloud. The move spurred innovation and fueled a new ecosystem of entrepreneurial software application providers–ranging from start-ups and emerging, venture capital-backed businesses to established players.\\n\\n\\n\\n\\n\\n2014\\n\\nIBM Watson Discovery Advisor\\n\\nIBM Watson Discovery Advisor was designed to cut through data quickly and find unexpected connections in raw data.\\n\\n\\n\\n2017\\n\\nIBM Watson NLP Library')]"
      ]
     },
     "execution_count": 49,
     "metadata": {},
     "output_type": "execute_result"
    }
   ],
   "source": [
    "retriever = vectorstore.as_retriever(search_kwargs={\"k\": 2})\n",
    "retriever.invoke(\"When was IBM Watson founded?\")"
   ]
  },
  {
   "cell_type": "code",
   "execution_count": 50,
   "metadata": {
    "id": "XRiNA4y8vkcz"
   },
   "outputs": [],
   "source": [
    "from langchain_core.prompts import ChatPromptTemplate\n",
    "template = \"\"\"Answer the question based only on the following context:\n",
    "{context}\n",
    "\n",
    "Question: {question}\n",
    "\n",
    "Answer: \"\"\"\n",
    "prompt = ChatPromptTemplate.from_template(template)"
   ]
  },
  {
   "cell_type": "code",
   "execution_count": 51,
   "metadata": {
    "colab": {
     "base_uri": "https://localhost:8080/"
    },
    "id": "aYCoxqbcvuht",
    "outputId": "aed01866-ba79-4685-cc45-9a060686983d"
   },
   "outputs": [
    {
     "data": {
      "text/plain": [
       "ChatPromptValue(messages=[HumanMessage(content=\"Answer the question based only on the following context:\\n[Document(metadata={'source': '/home/kkakarla/Development/git-projects/RAG/Langchain-RAG-chatbot/docs/IBM_Watson_History.docx'}, page_content='IBM’s research in AI goes back to the 1950s and includes significant milestones like the supercomputer Deep Blue defeating chess grandmaster Garry Kasparov.\\\\xa0\\\\n\\\\n\\\\n\\\\nIn 2011, IBM Watson defeated Brad Rutter and Ken Jennings in the\\\\xa0Jeopardy!\\\\xa0Challenge.\\\\xa0To find and understand the clues in the questions, Watson compared possible answers by ranking its confidence in their accuracy, and responded —\\\\xa0all in under three seconds.\\\\n\\\\n\\\\n\\\\nWatson sparked curiosity around “machines that could think” and opened up the possibilities around how AI could be applied to business. Clients in industries ranging from financial services to retail put Watson to work to unlock new insights, drive productivity and deliver better customer experiences.\\\\xa0\\\\n\\\\n\\\\n\\\\nNow through advancements in core Watson technologies, IBM has developed the next generation AI and data platform and set of AI assistants with\\\\xa0watsonx.\\\\n\\\\n\\\\n\\\\nHow Watson has evolved AI over time\\\\n\\\\n\\\\n\\\\n2007\\\\n\\\\nIBM Watson'), Document(metadata={'source': '/home/kkakarla/Development/git-projects/RAG/Langchain-RAG-chatbot/docs/IBM_Watson_History.docx'}, page_content='How Watson has evolved AI over time\\\\n\\\\n\\\\n\\\\n2007\\\\n\\\\nIBM Watson\\\\n\\\\nIBM Research started working on the grand challenge of building a computer system that could compete with champions at the game of Jeopardy!. Just four years later in 2011, the open-domain question-answering system dubbed Watson beat the two highest ranked players in a nationally televised two-game Jeopardy! Match.\\\\n\\\\n\\\\n\\\\n2013\\\\n\\\\nIBM Watson Developer Cloud\\\\n\\\\nIBM Watson technology became available as a development platform in the cloud. The move spurred innovation and fueled a new ecosystem of entrepreneurial software application providers–ranging from start-ups and emerging, venture capital-backed businesses to established players.\\\\n\\\\n\\\\n\\\\n\\\\n\\\\n2014\\\\n\\\\nIBM Watson Discovery Advisor\\\\n\\\\nIBM Watson Discovery Advisor was designed to cut through data quickly and find unexpected connections in raw data.\\\\n\\\\n\\\\n\\\\n2017\\\\n\\\\nIBM Watson NLP Library')]\\n\\nQuestion: When was IBM Watson founded?\\n\\nAnswer: \")])"
      ]
     },
     "execution_count": 51,
     "metadata": {},
     "output_type": "execute_result"
    }
   ],
   "source": [
    "from langchain.schema.runnable import RunnablePassthrough\n",
    "rag_chain = (\n",
    "    {\"context\": retriever, \"question\": RunnablePassthrough()} | prompt\n",
    ")\n",
    "rag_chain.invoke(\"When was IBM Watson founded?\")"
   ]
  },
  {
   "cell_type": "code",
   "execution_count": 52,
   "metadata": {
    "id": "uztRXXwDvud9"
   },
   "outputs": [],
   "source": [
    "def docs2str(docs):\n",
    "    return \"\\n\\n\".join(doc.page_content for doc in docs)"
   ]
  },
  {
   "cell_type": "code",
   "execution_count": 53,
   "metadata": {
    "colab": {
     "base_uri": "https://localhost:8080/"
    },
    "id": "Kk-VtijcwZw9",
    "outputId": "b976c90d-5d8e-427b-cee7-2281167b746c"
   },
   "outputs": [
    {
     "data": {
      "text/plain": [
       "ChatPromptValue(messages=[HumanMessage(content='Answer the question based only on the following context:\\nIBM’s research in AI goes back to the 1950s and includes significant milestones like the supercomputer Deep Blue defeating chess grandmaster Garry Kasparov.\\xa0\\n\\n\\n\\nIn 2011, IBM Watson defeated Brad Rutter and Ken Jennings in the\\xa0Jeopardy!\\xa0Challenge.\\xa0To find and understand the clues in the questions, Watson compared possible answers by ranking its confidence in their accuracy, and responded —\\xa0all in under three seconds.\\n\\n\\n\\nWatson sparked curiosity around “machines that could think” and opened up the possibilities around how AI could be applied to business. Clients in industries ranging from financial services to retail put Watson to work to unlock new insights, drive productivity and deliver better customer experiences.\\xa0\\n\\n\\n\\nNow through advancements in core Watson technologies, IBM has developed the next generation AI and data platform and set of AI assistants with\\xa0watsonx.\\n\\n\\n\\nHow Watson has evolved AI over time\\n\\n\\n\\n2007\\n\\nIBM Watson\\n\\nHow Watson has evolved AI over time\\n\\n\\n\\n2007\\n\\nIBM Watson\\n\\nIBM Research started working on the grand challenge of building a computer system that could compete with champions at the game of Jeopardy!. Just four years later in 2011, the open-domain question-answering system dubbed Watson beat the two highest ranked players in a nationally televised two-game Jeopardy! Match.\\n\\n\\n\\n2013\\n\\nIBM Watson Developer Cloud\\n\\nIBM Watson technology became available as a development platform in the cloud. The move spurred innovation and fueled a new ecosystem of entrepreneurial software application providers–ranging from start-ups and emerging, venture capital-backed businesses to established players.\\n\\n\\n\\n\\n\\n2014\\n\\nIBM Watson Discovery Advisor\\n\\nIBM Watson Discovery Advisor was designed to cut through data quickly and find unexpected connections in raw data.\\n\\n\\n\\n2017\\n\\nIBM Watson NLP Library\\n\\nQuestion: When was IBM Watson founded?\\n\\nAnswer: ')])"
      ]
     },
     "execution_count": 53,
     "metadata": {},
     "output_type": "execute_result"
    }
   ],
   "source": [
    "rag_chain = (\n",
    "    {\"context\": retriever | docs2str, \"question\": RunnablePassthrough()} | prompt\n",
    ")\n",
    "rag_chain.invoke(\"When was IBM Watson founded?\")"
   ]
  },
  {
   "cell_type": "code",
   "execution_count": 54,
   "metadata": {
    "colab": {
     "base_uri": "https://localhost:8080/"
    },
    "id": "_gjDAr3lwbXA",
    "outputId": "7a9df563-e772-401a-be4f-7abecb58ce40"
   },
   "outputs": [
    {
     "name": "stdout",
     "output_type": "stream",
     "text": [
      "The IBM Watson NLP Library was founded in 2017. However, based on the context provided, the specific milestone you're asking about is when IBM Research started working on building a computer system that could compete with champions at the game of Jeopardy!, which occurred in 2007.\n"
     ]
    }
   ],
   "source": [
    "rag_chain = (\n",
    "    {\"context\": retriever | docs2str, \"question\": RunnablePassthrough()}\n",
    "    | prompt\n",
    "    | llm\n",
    "    | StrOutputParser()\n",
    ")\n",
    "question = \"When was IBM Watson founded?\"\n",
    "response = rag_chain.invoke(question)\n",
    "print(response)"
   ]
  },
  {
   "cell_type": "markdown",
   "metadata": {
    "id": "_RPDMn9q4GbE"
   },
   "source": [
    "###Conversational RAG\n",
    "\n",
    "####Handling Follow Up Questions"
   ]
  },
  {
   "cell_type": "markdown",
   "metadata": {
    "id": "Z0OW5ak-Bqf1"
   },
   "source": []
  },
  {
   "cell_type": "code",
   "execution_count": 55,
   "metadata": {
    "id": "hbbjrk1cwl19"
   },
   "outputs": [],
   "source": [
    "# Example conversation\n",
    "from langchain_core.messages import HumanMessage, AIMessage\n",
    "chat_history = []\n",
    "chat_history.extend([\n",
    "    HumanMessage(content=question),\n",
    "    AIMessage(content=response)\n",
    "])"
   ]
  },
  {
   "cell_type": "code",
   "execution_count": 56,
   "metadata": {
    "colab": {
     "base_uri": "https://localhost:8080/"
    },
    "id": "ApN5nctt2XSn",
    "outputId": "61d19ef0-2efb-44df-f098-1754cb19be2d"
   },
   "outputs": [
    {
     "data": {
      "text/plain": [
       "[HumanMessage(content='When was IBM Watson founded?'),\n",
       " AIMessage(content=\"The IBM Watson NLP Library was founded in 2017. However, based on the context provided, the specific milestone you're asking about is when IBM Research started working on building a computer system that could compete with champions at the game of Jeopardy!, which occurred in 2007.\")]"
      ]
     },
     "execution_count": 56,
     "metadata": {},
     "output_type": "execute_result"
    }
   ],
   "source": [
    "chat_history"
   ]
  },
  {
   "cell_type": "code",
   "execution_count": 57,
   "metadata": {
    "colab": {
     "base_uri": "https://localhost:8080/",
     "height": 35
    },
    "id": "Sm2ju8n72YXY",
    "outputId": "eebba764-fee0-412a-dafc-528d5cb49d6f"
   },
   "outputs": [
    {
     "data": {
      "text/plain": [
       "\"The IBM Watson headquarters is located in Armonk, New York, United States. To provide more context, Armonk is a suburb north of New York City and serves as the corporate hub for IBM's global operations.\""
      ]
     },
     "execution_count": 57,
     "metadata": {},
     "output_type": "execute_result"
    }
   ],
   "source": [
    "from langchain_core.prompts import MessagesPlaceholder\n",
    "contextualize_q_system_prompt = (\n",
    "    \"Given a chat history and the latest user question \"\n",
    "    \"which might reference context in the chat history, \"\n",
    "    \"formulate a standalone question which can be understood \"\n",
    "    \"without the chat history. Do NOT answer the question, \"\n",
    "    \"just reformulate it if needed and otherwise return it as is.\"\n",
    ")\n",
    "\n",
    "contextualize_q_prompt = ChatPromptTemplate.from_messages(\n",
    "    [\n",
    "        (\"system\", contextualize_q_system_prompt),\n",
    "        MessagesPlaceholder(\"chat_history\"),\n",
    "        (\"human\", \"{input}\"),\n",
    "    ]\n",
    ")\n",
    "\n",
    "# history_aware_retriever = create_history_aware_retriever(\n",
    "#     llm, retriever, contextualize_q_prompt\n",
    "# )\n",
    "contextualize_chain = contextualize_q_prompt | llm | StrOutputParser()\n",
    "contextualize_chain.invoke({\"input\": \"Where it is headquartered?\", \"chat_history\": chat_history})"
   ]
  },
  {
   "cell_type": "code",
   "execution_count": 58,
   "metadata": {
    "colab": {
     "base_uri": "https://localhost:8080/"
    },
    "id": "vShrBX-M24_r",
    "outputId": "77755e1c-890c-49e8-deb0-daa9de3ae6fe"
   },
   "outputs": [
    {
     "data": {
      "text/plain": [
       "[Document(metadata={'source': '/home/kkakarla/Development/git-projects/RAG/Langchain-RAG-chatbot/docs/IBM_Watson_History.docx'}, page_content='IBM’s research in AI goes back to the 1950s and includes significant milestones like the supercomputer Deep Blue defeating chess grandmaster Garry Kasparov.\\xa0\\n\\n\\n\\nIn 2011, IBM Watson defeated Brad Rutter and Ken Jennings in the\\xa0Jeopardy!\\xa0Challenge.\\xa0To find and understand the clues in the questions, Watson compared possible answers by ranking its confidence in their accuracy, and responded —\\xa0all in under three seconds.\\n\\n\\n\\nWatson sparked curiosity around “machines that could think” and opened up the possibilities around how AI could be applied to business. Clients in industries ranging from financial services to retail put Watson to work to unlock new insights, drive productivity and deliver better customer experiences.\\xa0\\n\\n\\n\\nNow through advancements in core Watson technologies, IBM has developed the next generation AI and data platform and set of AI assistants with\\xa0watsonx.\\n\\n\\n\\nHow Watson has evolved AI over time\\n\\n\\n\\n2007\\n\\nIBM Watson'),\n",
       " Document(metadata={'source': '/home/kkakarla/Development/git-projects/RAG/Langchain-RAG-chatbot/docs/IBM_Watson_History.docx'}, page_content='How Watson has evolved AI over time\\n\\n\\n\\n2007\\n\\nIBM Watson\\n\\nIBM Research started working on the grand challenge of building a computer system that could compete with champions at the game of Jeopardy!. Just four years later in 2011, the open-domain question-answering system dubbed Watson beat the two highest ranked players in a nationally televised two-game Jeopardy! Match.\\n\\n\\n\\n2013\\n\\nIBM Watson Developer Cloud\\n\\nIBM Watson technology became available as a development platform in the cloud. The move spurred innovation and fueled a new ecosystem of entrepreneurial software application providers–ranging from start-ups and emerging, venture capital-backed businesses to established players.\\n\\n\\n\\n\\n\\n2014\\n\\nIBM Watson Discovery Advisor\\n\\nIBM Watson Discovery Advisor was designed to cut through data quickly and find unexpected connections in raw data.\\n\\n\\n\\n2017\\n\\nIBM Watson NLP Library')]"
      ]
     },
     "execution_count": 58,
     "metadata": {},
     "output_type": "execute_result"
    }
   ],
   "source": [
    "from langchain.chains import create_history_aware_retriever\n",
    "history_aware_retriever = create_history_aware_retriever(\n",
    "    llm, retriever, contextualize_q_prompt\n",
    ")\n",
    "history_aware_retriever.invoke({\"input\": \"Where it is headquartered?\", \"chat_history\": chat_history})"
   ]
  },
  {
   "cell_type": "code",
   "execution_count": 59,
   "metadata": {
    "colab": {
     "base_uri": "https://localhost:8080/"
    },
    "id": "m0BMwLBo7jhV",
    "outputId": "801db6d2-0cf6-448d-81ae-bfd90ce9d479"
   },
   "outputs": [
    {
     "data": {
      "text/plain": [
       "[Document(metadata={'source': '/home/kkakarla/Development/git-projects/RAG/Langchain-RAG-chatbot/docs/IBM_Watson_History.docx'}, page_content='2023\\n\\nwatsonx\\n\\nIn 2023, IBM announced the watsonx platform, which allows partners to train, tune and distribute models with generative AI and machine learning capabilities. Under development for three years, IBM designed watsonx to manage the life cycle of foundation models that are the basis of generative AI capabilities and for creating and tuning machine learning models'),\n",
       " Document(metadata={'source': '/home/kkakarla/Development/git-projects/RAG/Langchain-RAG-chatbot/docs/IBM_Watson_History.docx'}, page_content='IBM’s research in AI goes back to the 1950s and includes significant milestones like the supercomputer Deep Blue defeating chess grandmaster Garry Kasparov.\\xa0\\n\\n\\n\\nIn 2011, IBM Watson defeated Brad Rutter and Ken Jennings in the\\xa0Jeopardy!\\xa0Challenge.\\xa0To find and understand the clues in the questions, Watson compared possible answers by ranking its confidence in their accuracy, and responded —\\xa0all in under three seconds.\\n\\n\\n\\nWatson sparked curiosity around “machines that could think” and opened up the possibilities around how AI could be applied to business. Clients in industries ranging from financial services to retail put Watson to work to unlock new insights, drive productivity and deliver better customer experiences.\\xa0\\n\\n\\n\\nNow through advancements in core Watson technologies, IBM has developed the next generation AI and data platform and set of AI assistants with\\xa0watsonx.\\n\\n\\n\\nHow Watson has evolved AI over time\\n\\n\\n\\n2007\\n\\nIBM Watson')]"
      ]
     },
     "execution_count": 59,
     "metadata": {},
     "output_type": "execute_result"
    }
   ],
   "source": [
    "retriever.invoke(\"Where it is headquartered?\")"
   ]
  },
  {
   "cell_type": "code",
   "execution_count": 60,
   "metadata": {
    "id": "-AYJ1jce6cbQ"
   },
   "outputs": [],
   "source": [
    "from langchain.chains import create_retrieval_chain\n",
    "from langchain.chains.combine_documents import create_stuff_documents_chain\n",
    "\n",
    "qa_prompt = ChatPromptTemplate.from_messages([\n",
    "    (\"system\", \"You are a helpful AI assistant. Use the following context to answer the user's question.\"),\n",
    "    (\"system\", \"Context: {context}\"),\n",
    "    MessagesPlaceholder(variable_name=\"chat_history\"),\n",
    "    (\"human\", \"{input}\")\n",
    "])\n",
    "\n",
    "question_answer_chain = create_stuff_documents_chain(llm, qa_prompt)\n",
    "\n",
    "rag_chain = create_retrieval_chain(history_aware_retriever, question_answer_chain)"
   ]
  },
  {
   "cell_type": "code",
   "execution_count": 61,
   "metadata": {
    "colab": {
     "base_uri": "https://localhost:8080/"
    },
    "id": "vkeEE0hD65zW",
    "outputId": "accc91c8-5db0-418f-fdec-114ae6f7f47c"
   },
   "outputs": [
    {
     "data": {
      "text/plain": [
       "{'input': 'Where it is headquartered?',\n",
       " 'chat_history': [HumanMessage(content='When was IBM Watson founded?'),\n",
       "  AIMessage(content=\"The IBM Watson NLP Library was founded in 2017. However, based on the context provided, the specific milestone you're asking about is when IBM Research started working on building a computer system that could compete with champions at the game of Jeopardy!, which occurred in 2007.\")],\n",
       " 'context': [Document(metadata={'source': '/home/kkakarla/Development/git-projects/RAG/Langchain-RAG-chatbot/docs/IBM_Watson_History.docx'}, page_content='IBM’s research in AI goes back to the 1950s and includes significant milestones like the supercomputer Deep Blue defeating chess grandmaster Garry Kasparov.\\xa0\\n\\n\\n\\nIn 2011, IBM Watson defeated Brad Rutter and Ken Jennings in the\\xa0Jeopardy!\\xa0Challenge.\\xa0To find and understand the clues in the questions, Watson compared possible answers by ranking its confidence in their accuracy, and responded —\\xa0all in under three seconds.\\n\\n\\n\\nWatson sparked curiosity around “machines that could think” and opened up the possibilities around how AI could be applied to business. Clients in industries ranging from financial services to retail put Watson to work to unlock new insights, drive productivity and deliver better customer experiences.\\xa0\\n\\n\\n\\nNow through advancements in core Watson technologies, IBM has developed the next generation AI and data platform and set of AI assistants with\\xa0watsonx.\\n\\n\\n\\nHow Watson has evolved AI over time\\n\\n\\n\\n2007\\n\\nIBM Watson'),\n",
       "  Document(metadata={'source': '/home/kkakarla/Development/git-projects/RAG/Langchain-RAG-chatbot/docs/IBM_Watson_History.docx'}, page_content='How Watson has evolved AI over time\\n\\n\\n\\n2007\\n\\nIBM Watson\\n\\nIBM Research started working on the grand challenge of building a computer system that could compete with champions at the game of Jeopardy!. Just four years later in 2011, the open-domain question-answering system dubbed Watson beat the two highest ranked players in a nationally televised two-game Jeopardy! Match.\\n\\n\\n\\n2013\\n\\nIBM Watson Developer Cloud\\n\\nIBM Watson technology became available as a development platform in the cloud. The move spurred innovation and fueled a new ecosystem of entrepreneurial software application providers–ranging from start-ups and emerging, venture capital-backed businesses to established players.\\n\\n\\n\\n\\n\\n2014\\n\\nIBM Watson Discovery Advisor\\n\\nIBM Watson Discovery Advisor was designed to cut through data quickly and find unexpected connections in raw data.\\n\\n\\n\\n2017\\n\\nIBM Watson NLP Library')],\n",
       " 'answer': 'The IBM Watson headquarters are located in Armonk, New York.'}"
      ]
     },
     "execution_count": 61,
     "metadata": {},
     "output_type": "execute_result"
    }
   ],
   "source": [
    "rag_chain.invoke({\"input\": \"Where it is headquartered?\", \"chat_history\":chat_history})"
   ]
  },
  {
   "cell_type": "markdown",
   "metadata": {
    "id": "7Qdzx68u5aCv"
   },
   "source": [
    "###Building Multi User Chatbot"
   ]
  },
  {
   "cell_type": "markdown",
   "metadata": {
    "id": "vWufJa-c5HaC"
   },
   "source": []
  },
  {
   "cell_type": "code",
   "execution_count": 62,
   "metadata": {
    "id": "ftIORKEF3coG"
   },
   "outputs": [],
   "source": [
    "import sqlite3\n",
    "from datetime import datetime\n",
    "\n",
    "DB_NAME = \"rag_app.db\"\n",
    "\n",
    "def get_db_connection():\n",
    "    conn = sqlite3.connect(DB_NAME)\n",
    "    conn.row_factory = sqlite3.Row\n",
    "    return conn\n",
    "\n",
    "def create_application_logs():\n",
    "    conn = get_db_connection()\n",
    "    conn.execute('''CREATE TABLE IF NOT EXISTS application_logs\n",
    "                    (id INTEGER PRIMARY KEY AUTOINCREMENT,\n",
    "                     session_id TEXT,\n",
    "                     user_query TEXT,\n",
    "                     gpt_response TEXT,\n",
    "                     model TEXT,\n",
    "                     created_at TIMESTAMP DEFAULT CURRENT_TIMESTAMP)''')\n",
    "    conn.close()\n",
    "\n",
    "def insert_application_logs(session_id, user_query, gpt_response, model):\n",
    "    conn = get_db_connection()\n",
    "    conn.execute('INSERT INTO application_logs (session_id, user_query, gpt_response, model) VALUES (?, ?, ?, ?)',\n",
    "                 (session_id, user_query, gpt_response, model))\n",
    "    conn.commit()\n",
    "    conn.close()\n",
    "\n",
    "def get_chat_history(session_id):\n",
    "    conn = get_db_connection()\n",
    "    cursor = conn.cursor()\n",
    "    cursor.execute('SELECT user_query, gpt_response FROM application_logs WHERE session_id = ? ORDER BY created_at', (session_id,))\n",
    "    messages = []\n",
    "    for row in cursor.fetchall():\n",
    "        messages.extend([\n",
    "            {\"role\": \"human\", \"content\": row['user_query']},\n",
    "            {\"role\": \"ai\", \"content\": row['gpt_response']}\n",
    "        ])\n",
    "    conn.close()\n",
    "    return messages\n",
    "\n",
    "# Initialize the database\n",
    "create_application_logs()"
   ]
  },
  {
   "cell_type": "code",
   "execution_count": 63,
   "metadata": {
    "colab": {
     "base_uri": "https://localhost:8080/"
    },
    "id": "M--sjKYN6JIQ",
    "outputId": "1461b818-15d8-4f67-c6ac-4a10b0f7a5d3"
   },
   "outputs": [
    {
     "name": "stdout",
     "output_type": "stream",
     "text": [
      "[]\n",
      "Human: When was IBM Watson founded?\n",
      "AI: The IBM Watson brand was established in 2011, following the acquisition of Watson Health by IBM. However, the roots of the underlying technology can be traced back to earlier research and development efforts at IBM. The IBM Watson brand was launched in 2014, during which time the company expanded its offerings to include various AI-powered solutions and services. This timeline reflects the evolution of IBM Watson from its initial inception to its current status as a prominent player in the field of artificial intelligence and machine learning.\n",
      "\n"
     ]
    }
   ],
   "source": [
    "import uuid\n",
    "session_id = str(uuid.uuid4())\n",
    "chat_history = get_chat_history(session_id)\n",
    "print(chat_history)\n",
    "question1 = \"When was IBM Watson founded?\"\n",
    "answer1 = rag_chain.invoke({\"input\": question1, \"chat_history\":chat_history})['answer']\n",
    "insert_application_logs(session_id, question1, answer1, \"granite-7b-lab\")\n",
    "print(f\"Human: {question1}\")\n",
    "print(f\"AI: {answer1}\\n\")"
   ]
  },
  {
   "cell_type": "code",
   "execution_count": 64,
   "metadata": {
    "colab": {
     "base_uri": "https://localhost:8080/"
    },
    "id": "TqDRm5Rl6P5U",
    "outputId": "39944daf-182e-4148-85dd-83ac766e637e"
   },
   "outputs": [
    {
     "name": "stdout",
     "output_type": "stream",
     "text": [
      "[{'role': 'human', 'content': 'When was IBM Watson founded?'}, {'role': 'ai', 'content': 'The IBM Watson brand was established in 2011, following the acquisition of Watson Health by IBM. However, the roots of the underlying technology can be traced back to earlier research and development efforts at IBM. The IBM Watson brand was launched in 2014, during which time the company expanded its offerings to include various AI-powered solutions and services. This timeline reflects the evolution of IBM Watson from its initial inception to its current status as a prominent player in the field of artificial intelligence and machine learning.'}]\n",
      "Human: Where it is headquartered?\n",
      "AI: The IBM Watson headquarters is located in Armonk, New York. Armonk is a suburb north of New York City, and the campus is situated near the intersection of Route 1 and the Saw Mill River Parkway. This location provides easy access to major highways and airports, making it an ideal site for IBM's global headquarters. The campus is home to various IBM divisions, including Watson Health, which is dedicated to advancing healthcare through AI and data analytics. Overall, the Armonk campus is a significant part of IBM's presence in the United States and reflects the company's commitment to innovation and research.\n",
      "\n"
     ]
    }
   ],
   "source": [
    "question2 = \"Where it is headquartered?\"\n",
    "chat_history = get_chat_history(session_id)\n",
    "print(chat_history)\n",
    "answer2 = rag_chain.invoke({\"input\": question2, \"chat_history\":chat_history})['answer']\n",
    "insert_application_logs(session_id, question2, answer2, \"granite-7b-lab\")\n",
    "print(f\"Human: {question2}\")\n",
    "print(f\"AI: {answer2}\\n\")"
   ]
  },
  {
   "cell_type": "markdown",
   "metadata": {
    "id": "NgQiUzN68KYl"
   },
   "source": [
    "New User"
   ]
  },
  {
   "cell_type": "code",
   "execution_count": 65,
   "metadata": {
    "colab": {
     "background_save": true
    },
    "id": "jWmJ0FgD78AO"
   },
   "outputs": [
    {
     "name": "stdout",
     "output_type": "stream",
     "text": [
      "[]\n",
      "Human: What is IBM Watson\n",
      "AI: IBM Watson is a powerful artificial intelligence (AI) platform developed by IBM. It offers a wide range of services and tools designed to help businesses automate complex tasks, analyze large data sets, and make informed decisions based on the insights gleaned from that data. Some of the key capabilities of IBM Watson include natural language processing, machine learning, computer vision, and automation. These features enable Watson to understand and respond to human language, recognize patterns in images and videos, and automate repetitive tasks, making it a versatile and powerful tool for businesses across industries. Additionally, IBM Watson integrates with a wide range of third-party applications and platforms, allowing businesses to leverage its capabilities within their existing workflows and systems.\n",
      "\n"
     ]
    }
   ],
   "source": [
    "session_id = str(uuid.uuid4())\n",
    "question = \"What is IBM Watson\"\n",
    "chat_history = get_chat_history(session_id)\n",
    "print(chat_history)\n",
    "answer = rag_chain.invoke({\"input\": question, \"chat_history\":chat_history})['answer']\n",
    "insert_application_logs(session_id, question, answer, \"granite-7b-lab\")\n",
    "print(f\"Human: {question}\")\n",
    "print(f\"AI: {answer}\\n\")"
   ]
  },
  {
   "cell_type": "code",
   "execution_count": null,
   "metadata": {
    "colab": {
     "background_save": true
    },
    "id": "ssvjqblJ8SC3"
   },
   "outputs": [],
   "source": []
  }
 ],
 "metadata": {
  "colab": {
   "provenance": []
  },
  "kernelspec": {
   "display_name": "Python 3 (ipykernel)",
   "language": "python",
   "name": "python3"
  },
  "language_info": {
   "codemirror_mode": {
    "name": "ipython",
    "version": 3
   },
   "file_extension": ".py",
   "mimetype": "text/x-python",
   "name": "python",
   "nbconvert_exporter": "python",
   "pygments_lexer": "ipython3",
   "version": "3.11.10"
  }
 },
 "nbformat": 4,
 "nbformat_minor": 4
}
